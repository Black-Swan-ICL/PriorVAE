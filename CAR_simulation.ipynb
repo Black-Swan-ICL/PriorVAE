{
 "cells": [
  {
   "cell_type": "code",
   "execution_count": 1,
   "id": "4b8c0acc",
   "metadata": {},
   "outputs": [],
   "source": [
    "# general libraries\n",
    "import time\n",
    "import math\n",
    "import numpy as np\n",
    "from shapely import geometry\n",
    "from shapely.geometry import Polygon\n",
    "import matplotlib.pyplot as plt\n",
    "import pickle\n",
    "\n",
    "# JAX\n",
    "import jax\n",
    "import jax.numpy as jnp\n",
    "from jax import random, lax, jit, ops\n",
    "from jax.experimental import stax\n",
    "\n",
    "\n",
    "# Numpyro\n",
    "import numpyro\n",
    "from numpyro.infer import SVI, MCMC, NUTS, init_to_median, Predictive, RenyiELBO\n",
    "import numpyro.distributions as dist\n",
    "from numpyro.diagnostics import hpdi\n",
    "from numpyro import optim\n",
    "\n",
    "#plt.style.use('bmh')"
   ]
  },
  {
   "cell_type": "markdown",
   "id": "585f6e9e",
   "metadata": {},
   "source": [
    "## Helper functions"
   ]
  },
  {
   "cell_type": "code",
   "execution_count": 2,
   "id": "ad3b5365",
   "metadata": {},
   "outputs": [],
   "source": [
    "def plot_samps(draws, columns=4, rows=3, figsize = (19,12), ttl=\"CAR priors\"):\n",
    "    fig, axs = plt.subplots(rows, columns, figsize=figsize)\n",
    "    _min, _max = np.amin(draws[0:columns*rows]), np.amax(draws[0:columns*rows])\n",
    "    for r in range(rows):\n",
    "        for c in range(columns):\n",
    "            im = axs[r, c].imshow(draws[r*columns + c].reshape(ny, nx), \n",
    "                                  cmap='viridis', interpolation='none', #extent=[0,1,0,1], \n",
    "                                  origin='lower')\n",
    "                                  #,vmin=_min, vmax=_max)\n",
    "            axs[r, c].set_title(\"draw \"+str(r*columns + c))  \n",
    "            fig.colorbar(im, ax=axs[r, c])\n",
    "    fig.suptitle(ttl, fontsize=16)\n",
    "    plt.show()\n",
    "    \n",
    "def plot_truth_estimate(y_true, mean_post_pred_vae, ttl1=\"Ground truth\", ttl2=\"CAR estimate\"):\n",
    "    fig, axs = plt.subplots(1, 2, figsize=(12, 4))\n",
    "    _min, _max = np.amin([y_true, mean_post_pred_vae]), np.amax([y_true, mean_post_pred_vae])\n",
    "\n",
    "    im = axs[0].imshow(y_true.reshape(ny, nx), \n",
    "                       cmap='viridis', \n",
    "                       interpolation='none', \n",
    "                       origin='lower',\n",
    "                       vmin=_min, vmax=_max)\n",
    "    fig.colorbar(im, ax=axs[0])\n",
    "    axs[0].set_title(ttl1)  \n",
    "\n",
    "    im = axs[1].imshow(mean_post_pred_vae.reshape(ny, nx), \n",
    "                       cmap='viridis', \n",
    "                       interpolation='none', \n",
    "                       origin='lower',\n",
    "                       vmin=_min, vmax=_max)\n",
    "\n",
    "    fig.colorbar(im, ax=axs[1])\n",
    "    axs[1].set_title(ttl2) \n",
    "    \n",
    "def plot_truth_car_vae(y_true, mean_post_pred_car, mean_post_pred_vae, \n",
    "                       ttl1=\"Ground truth\", ttl2=\"CAR estimate\", ttl3=\"VAE estimate\"):\n",
    "    fig, axs = plt.subplots(1, 3, figsize=(18, 4))\n",
    "    _min = np.amin([y_true, mean_post_pred_car, mean_post_pred_vae])\n",
    "    _max = np.amax([y_true, mean_post_pred_car, mean_post_pred_vae])\n",
    "\n",
    "    im = axs[0].imshow(y_true.reshape(ny, nx), \n",
    "                       cmap='viridis', \n",
    "                       interpolation='none', \n",
    "                       origin='lower',\n",
    "                       vmin=_min, vmax=_max)\n",
    "    fig.colorbar(im, ax=axs[0])\n",
    "    axs[0].set_title(ttl1)  \n",
    "\n",
    "    im = axs[1].imshow(mean_post_pred_car.reshape(ny, nx), \n",
    "                       cmap='viridis', \n",
    "                       interpolation='none', \n",
    "                       origin='lower',\n",
    "                       vmin=_min, vmax=_max)\n",
    "\n",
    "    fig.colorbar(im, ax=axs[1])\n",
    "    axs[1].set_title(ttl2)\n",
    "    \n",
    "    im = axs[2].imshow(mean_post_pred_vae.reshape(ny, nx), \n",
    "                       cmap='viridis', \n",
    "                       interpolation='none', \n",
    "                       origin='lower',\n",
    "                       vmin=_min, vmax=_max)\n",
    "\n",
    "    fig.colorbar(im, ax=axs[2])\n",
    "    axs[2].set_title(ttl3)"
   ]
  },
  {
   "cell_type": "markdown",
   "id": "341f4ebb",
   "metadata": {},
   "source": [
    "## Cimluate data based on the CAR model"
   ]
  },
  {
   "cell_type": "code",
   "execution_count": 3,
   "id": "316f9e75",
   "metadata": {},
   "outputs": [
    {
     "name": "stdout",
     "output_type": "stream",
     "text": [
      "150\n"
     ]
    }
   ],
   "source": [
    "# create grid\n",
    "k = 1\n",
    "nx = 15 * k\n",
    "ny = 10 * k\n",
    "\n",
    "pols = [] # list of polygons\n",
    "\n",
    "for j in range(ny):\n",
    "    for i in range(nx):\n",
    "        coords = [(i,j), (i+1, j), (i+1, j+1), (i, j+1), (i,j)]\n",
    "        p = Polygon(coords)\n",
    "        pols.append(p)\n",
    "    \n",
    "N = len(pols)\n",
    "\n",
    "# adjacency matrix\n",
    "A = np.zeros(shape=(N,N))\n",
    "\n",
    "for i in range(N):\n",
    "    for j in range(i+1,N):\n",
    "        if (pols[i].intersection(pols[j]).length > 0):\n",
    "            A[i,j] = 1\n",
    "            A[j,i] = 1\n",
    "\n",
    "# number of neighbours\n",
    "d = A.sum(axis=0)\n",
    "\n",
    "#print(A)\n",
    "#print(d)\n",
    "print(N)"
   ]
  },
  {
   "cell_type": "code",
   "execution_count": 4,
   "id": "9c9197d9",
   "metadata": {},
   "outputs": [
    {
     "data": {
      "text/plain": [
       "0.0"
      ]
     },
     "execution_count": 4,
     "metadata": {},
     "output_type": "execute_result"
    }
   ],
   "source": [
    "D = jnp.diag(d)\n",
    "np.linalg.det(np.linalg.inv(D - A))"
   ]
  },
  {
   "cell_type": "code",
   "execution_count": 5,
   "id": "af787922",
   "metadata": {},
   "outputs": [],
   "source": [
    "def CAR(args):\n",
    "    \n",
    "    A = args[\"A\"]\n",
    "    d = args[\"d\"]\n",
    "    D = jnp.diag(d)\n",
    "\n",
    "    #alpha = numpyro.sample('alpha', dist.Uniform(low=0.01, high=0.999))\n",
    "    alpha = numpyro.sample('alpha', dist.Uniform(low=0.4, high=0.999))\n",
    "    \n",
    "    Q = (D - alpha * A)\n",
    "    \n",
    "    car = numpyro.sample('car', dist.MultivariateNormal(loc=jnp.zeros(N), precision_matrix=Q))\n",
    "    "
   ]
  },
  {
   "cell_type": "code",
   "execution_count": 6,
   "id": "a0ac3f6a",
   "metadata": {},
   "outputs": [],
   "source": [
    "args = {# data\n",
    "        \"d\": d,\n",
    "        \"A\":A,\n",
    "        \"rng_key\": random.PRNGKey(0),\n",
    "        \"batch_size\": 100\n",
    "}"
   ]
  },
  {
   "cell_type": "code",
   "execution_count": 7,
   "id": "1e56e337",
   "metadata": {},
   "outputs": [],
   "source": [
    "# CAR: prior predictive\n",
    "\n",
    "rng_key = args[\"rng_key\"]\n",
    "rng_key, rng_key_ = random.split(rng_key)\n",
    "\n",
    "car_predictive = Predictive(CAR, num_samples=args[\"batch_size\"])\n",
    "car_preds = car_predictive(rng_key_, args)\n",
    "car_draws = car_preds['car']"
   ]
  },
  {
   "cell_type": "code",
   "execution_count": 8,
   "id": "3a62540e",
   "metadata": {},
   "outputs": [
    {
     "data": {
      "image/png": "[encoded data removed]",
      "text/plain": [
       "<Figure size 1368x864 with 24 Axes>"
      ]
     },
     "metadata": {
      "needs_background": "light"
     },
     "output_type": "display_data"
    }
   ],
   "source": [
    "plot_samps(car_draws)"
   ]
  },
  {
   "cell_type": "markdown",
   "id": "aa9e905f",
   "metadata": {},
   "source": [
    "## Train VAE"
   ]
  },
  {
   "cell_type": "code",
   "execution_count": 9,
   "id": "cc3dd2e0",
   "metadata": {},
   "outputs": [],
   "source": [
    "args = {# data\n",
    "        \"d\": d,\n",
    "        \"A\":A,\n",
    "        \"rng_key\": random.PRNGKey(0),\n",
    "    \n",
    "        # VAE training\n",
    "        \"num_epochs\": 300, \n",
    "        \"learning_rate\": 1.0e-3, \n",
    "        \"batch_size\": 100, \n",
    "        \"hidden_dim\": 130,\n",
    "        \"z_dim\": 130, \n",
    "        \"num_train\": 100,\n",
    "        \"num_test\":100,\n",
    "}"
   ]
  },
  {
   "cell_type": "code",
   "execution_count": 10,
   "id": "67acc477",
   "metadata": {},
   "outputs": [],
   "source": [
    "def vae_encoder(hidden_dim, z_dim):\n",
    "    return stax.serial(\n",
    "        stax.Dense(hidden_dim, W_init=stax.randn()),\n",
    "        stax.Elu,\n",
    "        stax.FanOut(2),\n",
    "        stax.parallel(\n",
    "            stax.Dense(z_dim, W_init=stax.randn()), # mean\n",
    "            stax.serial(stax.Dense(z_dim, W_init=stax.randn()), stax.Exp), # std -- i.e. diagonal covariance\n",
    "        ),\n",
    "    )\n",
    "\n",
    "\n",
    "def vae_decoder( hidden_dim, out_dim):\n",
    "    return stax.serial(\n",
    "        stax.Dense(hidden_dim, W_init=stax.randn()),\n",
    "        stax.Elu,\n",
    "        stax.Dense(out_dim, W_init=stax.randn())\n",
    "    )\n",
    "\n",
    "def vae_model(batch, hidden_dim, z_dim):\n",
    "    batch = jnp.reshape(batch, (batch.shape[0], -1))\n",
    "    batch_dim, out_dim = jnp.shape(batch)\n",
    "    decode = numpyro.module(\"decoder\", vae_decoder( hidden_dim, out_dim), (batch_dim, z_dim))\n",
    "    z = numpyro.sample(\"z\", dist.Normal(jnp.zeros((z_dim,)), jnp.ones((z_dim,))))\n",
    "    gen_loc = decode(z)    \n",
    "    numpyro.sample(\"obs\", dist.Normal(gen_loc, .05), obs=batch) \n",
    "    #return \n",
    "    \n",
    "\n",
    "def vae_guide(batch, hidden_dim,  z_dim):\n",
    "    batch = jnp.reshape(batch, (batch.shape[0], -1))\n",
    "    batch_dim, out_dim = jnp.shape(batch)\n",
    "    encode = numpyro.module(\"encoder\", vae_encoder(hidden_dim, z_dim), (batch_dim, out_dim))\n",
    "    z_loc, z_std = encode(batch)\n",
    "    z = numpyro.sample(\"z\", dist.Normal(z_loc, z_std))\n",
    "    return z\n",
    "\n",
    "@jit\n",
    "def epoch_train(rng_key, svi_state, num_train):\n",
    "\n",
    "    def body_fn(i, val):\n",
    "        rng_key_i = random.fold_in(rng_key, i) \n",
    "        rng_key_i, rng_key_ls, rng_key_var, rng_key_noise = random.split(rng_key_i, 4)\n",
    "        loss_sum, svi_state = val # val -- svi_state\n",
    "        batch = car_predictive(rng_key_i, args)['car']\n",
    "        svi_state, loss = svi.update(svi_state, batch) \n",
    "        loss_sum += loss / args['batch_size']\n",
    "        return loss_sum, svi_state\n",
    "\n",
    "    return lax.fori_loop(0, num_train, body_fn, (0.0, svi_state)) #fori_loop(lower, upper, body_fun, init_val)\n",
    "\n",
    "@jit\n",
    "def eval_test(rng_key, svi_state, num_test):\n",
    "\n",
    "    def body_fn(i, loss_sum):\n",
    "        rng_key_i = random.fold_in(rng_key, i) \n",
    "        rng_key_i, rng_key_ls, rng_key_var, rng_key_noise = random.split(rng_key_i, 4)\n",
    "        batch = car_predictive(rng_key_i, args)['car']\n",
    "        loss = svi.evaluate(svi_state, batch) / args['batch_size']\n",
    "        loss_sum += loss\n",
    "        return loss_sum\n",
    "\n",
    "    loss = lax.fori_loop(0, num_test, body_fn, 0.0)\n",
    "    loss = loss / num_test\n",
    "\n",
    "    return loss\n",
    "\n",
    "adam = optim.Adam(step_size=args[\"learning_rate\"])\n",
    "\n",
    "#svi = SVI(vae_model, vae_guide, adam, RenyiELBO(alpha=-1, num_particles=4), \n",
    "svi = SVI(vae_model, vae_guide, adam, RenyiELBO(), \n",
    "          hidden_dim=args[\"hidden_dim\"], \n",
    "          z_dim=args[\"z_dim\"])\n",
    "\n",
    "rng_key, rng_key_samp, rng_key_init = random.split(args[\"rng_key\"], 3)\n",
    "init_batch = car_predictive(rng_key_, args)['car']\n",
    "svi_state = svi.init(rng_key_init, init_batch)"
   ]
  },
  {
   "cell_type": "code",
   "execution_count": 11,
   "id": "7886b9d9",
   "metadata": {},
   "outputs": [
    {
     "name": "stdout",
     "output_type": "stream",
     "text": [
      "Epoch 0: loss = 5634.044921875 (9.32 s.)\n",
      "Epoch 1: loss = 4273.1806640625 (0.00 s.)\n",
      "Epoch 2: loss = 3583.61572265625 (0.00 s.)\n",
      "Epoch 3: loss = 3228.06787109375 (0.00 s.)\n",
      "Epoch 4: loss = 2969.5390625 (0.00 s.)\n",
      "Epoch 5: loss = 2768.38232421875 (0.00 s.)\n",
      "Epoch 6: loss = 2604.810546875 (0.00 s.)\n",
      "Epoch 7: loss = 2497.6728515625 (0.00 s.)\n",
      "Epoch 8: loss = 2448.412353515625 (0.00 s.)\n",
      "Epoch 9: loss = 2348.6259765625 (0.00 s.)\n",
      "Epoch 10: loss = 2285.0146484375 (0.00 s.)\n",
      "Epoch 11: loss = 2200.13330078125 (0.00 s.)\n",
      "Epoch 12: loss = 2188.08837890625 (0.00 s.)\n",
      "Epoch 13: loss = 2136.335205078125 (0.00 s.)\n",
      "Epoch 14: loss = 2101.2724609375 (0.00 s.)\n",
      "Epoch 15: loss = 2048.6650390625 (0.00 s.)\n",
      "Epoch 16: loss = 2069.21337890625 (0.00 s.)\n",
      "Epoch 17: loss = 2044.8092041015625 (0.00 s.)\n",
      "Epoch 18: loss = 2000.8817138671875 (0.00 s.)\n",
      "Epoch 19: loss = 1989.5694580078125 (0.00 s.)\n",
      "Epoch 20: loss = 1951.499267578125 (0.00 s.)\n",
      "Epoch 21: loss = 1960.5921630859375 (0.00 s.)\n",
      "Epoch 22: loss = 1949.568603515625 (0.00 s.)\n",
      "Epoch 23: loss = 1907.457763671875 (0.00 s.)\n",
      "Epoch 24: loss = 1910.6402587890625 (0.00 s.)\n",
      "Epoch 25: loss = 1902.7283935546875 (0.00 s.)\n",
      "Epoch 26: loss = 1912.038330078125 (0.00 s.)\n",
      "Epoch 27: loss = 1907.275390625 (0.00 s.)\n",
      "Epoch 28: loss = 1896.948486328125 (0.00 s.)\n",
      "Epoch 29: loss = 1864.900634765625 (0.00 s.)\n",
      "Epoch 30: loss = 1858.9219970703125 (0.00 s.)\n",
      "Epoch 31: loss = 1855.683837890625 (0.00 s.)\n",
      "Epoch 32: loss = 1855.4100341796875 (0.00 s.)\n",
      "Epoch 33: loss = 1853.250732421875 (0.00 s.)\n",
      "Epoch 34: loss = 1817.336181640625 (0.00 s.)\n",
      "Epoch 35: loss = 1812.8436279296875 (0.00 s.)\n",
      "Epoch 36: loss = 1782.7041015625 (0.00 s.)\n",
      "Epoch 37: loss = 1777.501220703125 (0.00 s.)\n",
      "Epoch 38: loss = 1770.708984375 (0.00 s.)\n",
      "Epoch 39: loss = 1773.865234375 (0.00 s.)\n",
      "Epoch 40: loss = 1770.489013671875 (0.00 s.)\n",
      "Epoch 41: loss = 1770.3924560546875 (0.00 s.)\n",
      "Epoch 42: loss = 1777.5601806640625 (0.00 s.)\n",
      "Epoch 43: loss = 1765.66650390625 (0.00 s.)\n",
      "Epoch 44: loss = 1780.5582275390625 (0.00 s.)\n",
      "Epoch 45: loss = 1767.9473876953125 (0.00 s.)\n",
      "Epoch 46: loss = 1767.994140625 (0.00 s.)\n",
      "Epoch 47: loss = 1768.3424072265625 (0.00 s.)\n",
      "Epoch 48: loss = 1729.6124267578125 (0.00 s.)\n",
      "Epoch 49: loss = 1728.472900390625 (0.00 s.)\n",
      "Epoch 50: loss = 1729.7620849609375 (0.00 s.)\n",
      "Epoch 51: loss = 1727.58056640625 (0.00 s.)\n",
      "Epoch 52: loss = 1729.244140625 (0.00 s.)\n",
      "Epoch 53: loss = 1725.78173828125 (0.00 s.)\n",
      "Epoch 54: loss = 1729.654541015625 (0.00 s.)\n",
      "Epoch 55: loss = 1731.0367431640625 (0.00 s.)\n",
      "Epoch 56: loss = 1736.79443359375 (0.00 s.)\n",
      "Epoch 57: loss = 1727.0565185546875 (0.00 s.)\n",
      "Epoch 58: loss = 1731.8997802734375 (0.00 s.)\n",
      "Epoch 59: loss = 1733.3226318359375 (0.00 s.)\n",
      "Epoch 60: loss = 1725.9808349609375 (0.00 s.)\n",
      "Epoch 61: loss = 1724.784912109375 (0.00 s.)\n",
      "Epoch 62: loss = 1685.4791259765625 (0.00 s.)\n",
      "Epoch 63: loss = 1684.3553466796875 (0.00 s.)\n",
      "Epoch 64: loss = 1680.613037109375 (0.00 s.)\n",
      "Epoch 65: loss = 1696.338134765625 (0.00 s.)\n",
      "Epoch 66: loss = 1674.7362060546875 (0.00 s.)\n",
      "Epoch 67: loss = 1677.1064453125 (0.00 s.)\n",
      "Epoch 68: loss = 1681.829345703125 (0.00 s.)\n",
      "Epoch 69: loss = 1638.5794677734375 (0.00 s.)\n",
      "Epoch 70: loss = 1647.5538330078125 (0.00 s.)\n",
      "Epoch 71: loss = 1636.3277587890625 (0.00 s.)\n",
      "Epoch 72: loss = 1634.6981201171875 (0.00 s.)\n",
      "Epoch 73: loss = 1639.298583984375 (0.00 s.)\n",
      "Epoch 74: loss = 1643.1273193359375 (0.00 s.)\n",
      "Epoch 75: loss = 1634.781982421875 (0.00 s.)\n",
      "Epoch 76: loss = 1594.4503173828125 (0.00 s.)\n",
      "Epoch 77: loss = 1597.9229736328125 (0.00 s.)\n",
      "Epoch 78: loss = 1602.3265380859375 (0.00 s.)\n",
      "Epoch 79: loss = 1599.611572265625 (0.00 s.)\n",
      "Epoch 80: loss = 1603.924072265625 (0.00 s.)\n",
      "Epoch 81: loss = 1598.495361328125 (0.00 s.)\n",
      "Epoch 82: loss = 1603.73095703125 (0.00 s.)\n",
      "Epoch 83: loss = 1596.5706787109375 (0.00 s.)\n",
      "Epoch 84: loss = 1593.287109375 (0.00 s.)\n",
      "Epoch 85: loss = 1601.0162353515625 (0.00 s.)\n",
      "Epoch 86: loss = 1598.4208984375 (0.00 s.)\n",
      "Epoch 87: loss = 1619.1575927734375 (0.00 s.)\n",
      "Epoch 88: loss = 1595.498779296875 (0.00 s.)\n",
      "Epoch 89: loss = 1601.3778076171875 (0.00 s.)\n",
      "Epoch 90: loss = 1601.4791259765625 (0.00 s.)\n",
      "Epoch 91: loss = 1557.501708984375 (0.00 s.)\n",
      "Epoch 92: loss = 1556.474365234375 (0.00 s.)\n",
      "Epoch 93: loss = 1663.345947265625 (0.00 s.)\n",
      "Epoch 94: loss = 1692.1800537109375 (0.00 s.)\n",
      "Epoch 95: loss = 1587.5489501953125 (0.00 s.)\n",
      "Epoch 96: loss = 1521.118408203125 (0.00 s.)\n",
      "Epoch 97: loss = 1516.69140625 (0.00 s.)\n",
      "Epoch 98: loss = 1479.80322265625 (0.00 s.)\n",
      "Epoch 99: loss = 1526.2635498046875 (0.00 s.)\n",
      "Epoch 100: loss = 1453.22900390625 (0.00 s.)\n",
      "Epoch 101: loss = 1402.50927734375 (0.00 s.)\n",
      "Epoch 102: loss = 1392.9591064453125 (0.00 s.)\n",
      "Epoch 103: loss = 1398.357666015625 (0.00 s.)\n",
      "Epoch 104: loss = 1405.9735107421875 (0.00 s.)\n",
      "Epoch 105: loss = 1359.68212890625 (0.00 s.)\n",
      "Epoch 106: loss = 1353.98876953125 (0.00 s.)\n",
      "Epoch 107: loss = 1357.369384765625 (0.00 s.)\n",
      "Epoch 108: loss = 1322.737548828125 (0.00 s.)\n",
      "Epoch 109: loss = 1316.75830078125 (0.00 s.)\n",
      "Epoch 110: loss = 1323.0589599609375 (0.00 s.)\n",
      "Epoch 111: loss = 1314.8968505859375 (0.00 s.)\n",
      "Epoch 112: loss = 1321.9971923828125 (0.00 s.)\n",
      "Epoch 113: loss = 1278.1468505859375 (0.00 s.)\n",
      "Epoch 114: loss = 1280.4393310546875 (0.00 s.)\n",
      "Epoch 115: loss = 1278.2283935546875 (0.00 s.)\n",
      "Epoch 116: loss = 1270.9664306640625 (0.00 s.)\n",
      "Epoch 117: loss = 1273.00048828125 (0.00 s.)\n",
      "Epoch 118: loss = 1294.52099609375 (0.00 s.)\n",
      "Epoch 119: loss = 1274.9833984375 (0.00 s.)\n",
      "Epoch 120: loss = 1275.8875732421875 (0.00 s.)\n",
      "Epoch 121: loss = 1276.4114990234375 (0.00 s.)\n",
      "Epoch 122: loss = 1277.625732421875 (0.00 s.)\n",
      "Epoch 123: loss = 1276.4095458984375 (0.00 s.)\n",
      "Epoch 124: loss = 1275.9449462890625 (0.00 s.)\n",
      "Epoch 125: loss = 1283.53173828125 (0.00 s.)\n",
      "Epoch 126: loss = 1281.99365234375 (0.00 s.)\n",
      "Epoch 127: loss = 1274.3829345703125 (0.00 s.)\n",
      "Epoch 128: loss = 1275.0548095703125 (0.00 s.)\n",
      "Epoch 129: loss = 1272.1585693359375 (0.00 s.)\n",
      "Epoch 130: loss = 1287.099853515625 (0.00 s.)\n",
      "Epoch 131: loss = 1269.4697265625 (0.00 s.)\n",
      "Epoch 132: loss = 1274.0029296875 (0.00 s.)\n",
      "Epoch 133: loss = 1279.6632080078125 (0.00 s.)\n",
      "Epoch 134: loss = 1276.8736572265625 (0.00 s.)\n",
      "Epoch 135: loss = 1271.753173828125 (0.00 s.)\n",
      "Epoch 136: loss = 1272.3851318359375 (0.00 s.)\n",
      "Epoch 137: loss = 1269.9520263671875 (0.00 s.)\n",
      "Epoch 138: loss = 1274.505859375 (0.00 s.)\n",
      "Epoch 139: loss = 1273.392578125 (0.00 s.)\n",
      "Epoch 140: loss = 1276.965087890625 (0.00 s.)\n",
      "Epoch 141: loss = 1273.7945556640625 (0.00 s.)\n",
      "Epoch 142: loss = 1275.471923828125 (0.00 s.)\n",
      "Epoch 143: loss = 1281.385009765625 (0.00 s.)\n",
      "Epoch 144: loss = 1288.388671875 (0.00 s.)\n",
      "Epoch 145: loss = 1273.6048583984375 (0.00 s.)\n",
      "Epoch 146: loss = 1279.46875 (0.00 s.)\n",
      "Epoch 147: loss = 1277.9107666015625 (0.00 s.)\n",
      "Epoch 148: loss = 1279.239990234375 (0.00 s.)\n",
      "Epoch 149: loss = 1272.6143798828125 (0.00 s.)\n",
      "Epoch 150: loss = 1275.9619140625 (0.00 s.)\n",
      "Epoch 151: loss = 1274.191162109375 (0.00 s.)\n",
      "Epoch 152: loss = 1278.0091552734375 (0.00 s.)\n",
      "Epoch 153: loss = 1276.468994140625 (0.00 s.)\n",
      "Epoch 154: loss = 1283.7457275390625 (0.00 s.)\n",
      "Epoch 155: loss = 1274.944091796875 (0.00 s.)\n",
      "Epoch 156: loss = 1277.0272216796875 (0.00 s.)\n",
      "Epoch 157: loss = 1275.5189208984375 (0.00 s.)\n",
      "Epoch 158: loss = 1278.332275390625 (0.00 s.)\n",
      "Epoch 159: loss = 1278.076904296875 (0.00 s.)\n",
      "Epoch 160: loss = 1278.01904296875 (0.00 s.)\n",
      "Epoch 161: loss = 1276.45361328125 (0.00 s.)\n",
      "Epoch 162: loss = 1273.1085205078125 (0.00 s.)\n",
      "Epoch 163: loss = 1277.60693359375 (0.00 s.)\n",
      "Epoch 164: loss = 1277.394775390625 (0.00 s.)\n",
      "Epoch 165: loss = 1274.58740234375 (0.00 s.)\n",
      "Epoch 166: loss = 1272.84326171875 (0.00 s.)\n",
      "Epoch 167: loss = 1274.236328125 (0.00 s.)\n",
      "Epoch 168: loss = 1279.7958984375 (0.00 s.)\n",
      "Epoch 169: loss = 1274.6358642578125 (0.00 s.)\n",
      "Epoch 170: loss = 1271.4984130859375 (0.00 s.)\n",
      "Epoch 171: loss = 1277.48779296875 (0.00 s.)\n",
      "Epoch 172: loss = 1292.681640625 (0.00 s.)\n",
      "Epoch 173: loss = 1276.91064453125 (0.00 s.)\n",
      "Epoch 174: loss = 1274.6383056640625 (0.00 s.)\n",
      "Epoch 175: loss = 1277.374755859375 (0.00 s.)\n",
      "Epoch 176: loss = 1271.652587890625 (0.00 s.)\n",
      "Epoch 177: loss = 1270.9345703125 (0.00 s.)\n",
      "Epoch 178: loss = 1275.19189453125 (0.00 s.)\n",
      "Epoch 179: loss = 1281.4647216796875 (0.00 s.)\n",
      "Epoch 180: loss = 1271.98681640625 (0.00 s.)\n",
      "Epoch 181: loss = 1272.277099609375 (0.00 s.)\n"
     ]
    },
    {
     "name": "stdout",
     "output_type": "stream",
     "text": [
      "Epoch 182: loss = 1277.1546630859375 (0.00 s.)\n",
      "Epoch 183: loss = 1271.095947265625 (0.00 s.)\n",
      "Epoch 184: loss = 1279.5601806640625 (0.00 s.)\n",
      "Epoch 185: loss = 1280.3123779296875 (0.00 s.)\n",
      "Epoch 186: loss = 1276.583740234375 (0.00 s.)\n",
      "Epoch 187: loss = 1274.96240234375 (0.00 s.)\n",
      "Epoch 188: loss = 1274.767822265625 (0.00 s.)\n",
      "Epoch 189: loss = 1275.06201171875 (0.00 s.)\n",
      "Epoch 190: loss = 1282.250732421875 (0.00 s.)\n",
      "Epoch 191: loss = 1273.04345703125 (0.00 s.)\n",
      "Epoch 192: loss = 1271.357177734375 (0.00 s.)\n",
      "Epoch 193: loss = 1279.0694580078125 (0.00 s.)\n",
      "Epoch 194: loss = 1270.689697265625 (0.00 s.)\n",
      "Epoch 195: loss = 1270.0933837890625 (0.00 s.)\n",
      "Epoch 196: loss = 1279.171142578125 (0.00 s.)\n",
      "Epoch 197: loss = 1277.78466796875 (0.00 s.)\n",
      "Epoch 198: loss = 1278.245849609375 (0.00 s.)\n",
      "Epoch 199: loss = 1278.647216796875 (0.00 s.)\n",
      "Epoch 200: loss = 1276.016357421875 (0.00 s.)\n",
      "Epoch 201: loss = 1275.2967529296875 (0.00 s.)\n",
      "Epoch 202: loss = 1272.427978515625 (0.00 s.)\n",
      "Epoch 203: loss = 1276.553466796875 (0.00 s.)\n",
      "Epoch 204: loss = 1275.877685546875 (0.00 s.)\n",
      "Epoch 205: loss = 1278.609375 (0.00 s.)\n",
      "Epoch 206: loss = 1275.442626953125 (0.00 s.)\n",
      "Epoch 207: loss = 1268.666015625 (0.00 s.)\n",
      "Epoch 208: loss = 1271.77880859375 (0.00 s.)\n",
      "Epoch 209: loss = 1275.17041015625 (0.00 s.)\n",
      "Epoch 210: loss = 1273.68310546875 (0.00 s.)\n",
      "Epoch 211: loss = 1271.8658447265625 (0.00 s.)\n",
      "Epoch 212: loss = 1274.170654296875 (0.00 s.)\n",
      "Epoch 213: loss = 1276.0155029296875 (0.00 s.)\n",
      "Epoch 214: loss = 1273.396484375 (0.00 s.)\n",
      "Epoch 215: loss = 1270.1971435546875 (0.00 s.)\n",
      "Epoch 216: loss = 1272.699462890625 (0.00 s.)\n",
      "Epoch 217: loss = 1271.7962646484375 (0.00 s.)\n",
      "Epoch 218: loss = 1272.9271240234375 (0.00 s.)\n",
      "Epoch 219: loss = 1271.4913330078125 (0.00 s.)\n",
      "Epoch 220: loss = 1270.33203125 (0.00 s.)\n",
      "Epoch 221: loss = 1272.37890625 (0.00 s.)\n",
      "Epoch 222: loss = 1279.7862548828125 (0.00 s.)\n",
      "Epoch 223: loss = 1271.22509765625 (0.00 s.)\n",
      "Epoch 224: loss = 1272.115234375 (0.00 s.)\n",
      "Epoch 225: loss = 1287.2591552734375 (0.00 s.)\n",
      "Epoch 226: loss = 1273.47314453125 (0.00 s.)\n",
      "Epoch 227: loss = 1273.94775390625 (0.00 s.)\n",
      "Epoch 228: loss = 1273.7626953125 (0.00 s.)\n",
      "Epoch 229: loss = 1272.8695068359375 (0.00 s.)\n",
      "Epoch 230: loss = 1278.06982421875 (0.00 s.)\n",
      "Epoch 231: loss = 1272.847900390625 (0.00 s.)\n",
      "Epoch 232: loss = 1275.5523681640625 (0.00 s.)\n",
      "Epoch 233: loss = 1279.8111572265625 (0.00 s.)\n",
      "Epoch 234: loss = 1277.2598876953125 (0.00 s.)\n",
      "Epoch 235: loss = 1274.183349609375 (0.00 s.)\n",
      "Epoch 236: loss = 1272.6099853515625 (0.00 s.)\n",
      "Epoch 237: loss = 1273.140625 (0.00 s.)\n",
      "Epoch 238: loss = 1278.1295166015625 (0.00 s.)\n",
      "Epoch 239: loss = 1280.3458251953125 (0.00 s.)\n",
      "Epoch 240: loss = 1277.17041015625 (0.00 s.)\n",
      "Epoch 241: loss = 1276.5589599609375 (0.00 s.)\n",
      "Epoch 242: loss = 1269.5023193359375 (0.00 s.)\n",
      "Epoch 243: loss = 1277.8990478515625 (0.00 s.)\n",
      "Epoch 244: loss = 1282.6971435546875 (0.00 s.)\n",
      "Epoch 245: loss = 1267.5411376953125 (0.00 s.)\n",
      "Epoch 246: loss = 1235.992919921875 (0.00 s.)\n",
      "Epoch 247: loss = 1301.2939453125 (0.00 s.)\n",
      "Epoch 248: loss = 1234.891357421875 (0.00 s.)\n",
      "Epoch 249: loss = 1250.874755859375 (0.00 s.)\n",
      "Epoch 250: loss = 1234.291259765625 (0.00 s.)\n",
      "Epoch 251: loss = 1241.1002197265625 (0.00 s.)\n",
      "Epoch 252: loss = 1235.79052734375 (0.00 s.)\n",
      "Epoch 253: loss = 1236.5001220703125 (0.00 s.)\n",
      "Epoch 254: loss = 1239.8153076171875 (0.00 s.)\n",
      "Epoch 255: loss = 1243.54052734375 (0.00 s.)\n",
      "Epoch 256: loss = 1240.8228759765625 (0.00 s.)\n",
      "Epoch 257: loss = 1235.4510498046875 (0.00 s.)\n",
      "Epoch 258: loss = 1234.0888671875 (0.00 s.)\n",
      "Epoch 259: loss = 1239.8802490234375 (0.00 s.)\n",
      "Epoch 260: loss = 1233.2762451171875 (0.00 s.)\n",
      "Epoch 261: loss = 1231.5709228515625 (0.00 s.)\n",
      "Epoch 262: loss = 1238.7293701171875 (0.00 s.)\n",
      "Epoch 263: loss = 1230.769287109375 (0.00 s.)\n",
      "Epoch 264: loss = 1237.4403076171875 (0.00 s.)\n",
      "Epoch 265: loss = 1235.2822265625 (0.00 s.)\n",
      "Epoch 266: loss = 1232.544189453125 (0.00 s.)\n",
      "Epoch 267: loss = 1239.8167724609375 (0.00 s.)\n",
      "Epoch 268: loss = 1237.12255859375 (0.00 s.)\n",
      "Epoch 269: loss = 1233.6771240234375 (0.00 s.)\n",
      "Epoch 270: loss = 1241.8121337890625 (0.00 s.)\n",
      "Epoch 271: loss = 1233.113525390625 (0.00 s.)\n",
      "Epoch 272: loss = 1233.9530029296875 (0.00 s.)\n",
      "Epoch 273: loss = 1237.2911376953125 (0.00 s.)\n",
      "Epoch 274: loss = 1239.14697265625 (0.00 s.)\n",
      "Epoch 275: loss = 1238.3302001953125 (0.00 s.)\n",
      "Epoch 276: loss = 1239.0364990234375 (0.00 s.)\n",
      "Epoch 277: loss = 1241.5347900390625 (0.00 s.)\n",
      "Epoch 278: loss = 1234.978759765625 (0.00 s.)\n",
      "Epoch 279: loss = 1237.6314697265625 (0.00 s.)\n",
      "Epoch 280: loss = 1231.5391845703125 (0.00 s.)\n",
      "Epoch 281: loss = 1236.745361328125 (0.00 s.)\n",
      "Epoch 282: loss = 1233.5218505859375 (0.00 s.)\n",
      "Epoch 283: loss = 1238.4632568359375 (0.00 s.)\n",
      "Epoch 284: loss = 1237.717041015625 (0.00 s.)\n",
      "Epoch 285: loss = 1235.111572265625 (0.00 s.)\n",
      "Epoch 286: loss = 1236.9952392578125 (0.00 s.)\n",
      "Epoch 287: loss = 1240.239501953125 (0.00 s.)\n",
      "Epoch 288: loss = 1232.0712890625 (0.00 s.)\n",
      "Epoch 289: loss = 1236.819580078125 (0.00 s.)\n",
      "Epoch 290: loss = 1233.357666015625 (0.00 s.)\n",
      "Epoch 291: loss = 1238.1309814453125 (0.00 s.)\n",
      "Epoch 292: loss = 1237.348388671875 (0.00 s.)\n",
      "Epoch 293: loss = 1234.5833740234375 (0.00 s.)\n",
      "Epoch 294: loss = 1236.0721435546875 (0.00 s.)\n",
      "Epoch 295: loss = 1242.2120361328125 (0.00 s.)\n",
      "Epoch 296: loss = 1240.076904296875 (0.00 s.)\n",
      "Epoch 297: loss = 1236.720703125 (0.00 s.)\n",
      "Epoch 298: loss = 1237.763916015625 (0.00 s.)\n",
      "Epoch 299: loss = 1231.555908203125 (0.00 s.)\n"
     ]
    }
   ],
   "source": [
    "test_loss_list = []\n",
    "\n",
    "for i in range(args['num_epochs']):\n",
    "    \n",
    "    rng_key, rng_key_train, rng_key_test, rng_key_infer = random.split(rng_key, 4)\n",
    "    \n",
    "    t_start = time.time()\n",
    "\n",
    "    num_train = 1000\n",
    "    _, svi_state = epoch_train(rng_key_train, svi_state, num_train)\n",
    "\n",
    "    num_test = 1000\n",
    "    test_loss = eval_test(rng_key_test, svi_state, num_test)\n",
    "    test_loss_list += [test_loss]\n",
    "\n",
    "    print(\"Epoch {}: loss = {} ({:.2f} s.)\".format(i, test_loss, time.time() - t_start))\n",
    "    \n",
    "    if math.isnan(test_loss): break"
   ]
  },
  {
   "cell_type": "code",
   "execution_count": 1,
   "id": "0a6f9e86",
   "metadata": {},
   "outputs": [
    {
     "ename": "NameError",
     "evalue": "name 'plt' is not defined",
     "output_type": "error",
     "traceback": [
      "\u001b[0;31m---------------------------------------------------------------------------\u001b[0m",
      "\u001b[0;31mNameError\u001b[0m                                 Traceback (most recent call last)",
      "\u001b[0;32m/var/folders/q3/n2z18__9281b8xfhctcpxfsr0000gn/T/ipykernel_10681/1974038155.py\u001b[0m in \u001b[0;36m<module>\u001b[0;34m\u001b[0m\n\u001b[0;32m----> 1\u001b[0;31m \u001b[0mplt\u001b[0m\u001b[0;34m.\u001b[0m\u001b[0mfigure\u001b[0m\u001b[0;34m(\u001b[0m\u001b[0;34m)\u001b[0m\u001b[0;34m\u001b[0m\u001b[0;34m\u001b[0m\u001b[0m\n\u001b[0m\u001b[1;32m      2\u001b[0m \u001b[0mplt\u001b[0m\u001b[0;34m.\u001b[0m\u001b[0mplot\u001b[0m\u001b[0;34m(\u001b[0m\u001b[0mnp\u001b[0m\u001b[0;34m.\u001b[0m\u001b[0marange\u001b[0m\u001b[0;34m(\u001b[0m\u001b[0;36m0\u001b[0m\u001b[0;34m,\u001b[0m \u001b[0mlen\u001b[0m\u001b[0;34m(\u001b[0m\u001b[0mtest_loss_list\u001b[0m\u001b[0;34m)\u001b[0m\u001b[0;34m,\u001b[0m \u001b[0;36m1\u001b[0m\u001b[0;34m)\u001b[0m\u001b[0;34m,\u001b[0m \u001b[0mtest_loss_list\u001b[0m\u001b[0;34m,\u001b[0m \u001b[0mlabel\u001b[0m\u001b[0;34m=\u001b[0m\u001b[0;34m\"test loss\"\u001b[0m\u001b[0;34m)\u001b[0m\u001b[0;34m\u001b[0m\u001b[0;34m\u001b[0m\u001b[0m\n\u001b[1;32m      3\u001b[0m \u001b[0mplt\u001b[0m\u001b[0;34m.\u001b[0m\u001b[0mxlabel\u001b[0m\u001b[0;34m(\u001b[0m\u001b[0;34m\"epochs\"\u001b[0m\u001b[0;34m)\u001b[0m\u001b[0;34m\u001b[0m\u001b[0;34m\u001b[0m\u001b[0m\n\u001b[1;32m      4\u001b[0m \u001b[0mplt\u001b[0m\u001b[0;34m.\u001b[0m\u001b[0mshow\u001b[0m\u001b[0;34m(\u001b[0m\u001b[0;34m)\u001b[0m\u001b[0;34m\u001b[0m\u001b[0;34m\u001b[0m\u001b[0m\n",
      "\u001b[0;31mNameError\u001b[0m: name 'plt' is not defined"
     ]
    }
   ],
   "source": [
    "plt.figure()\n",
    "plt.plot(np.arange(0, len(test_loss_list), 1), test_loss_list, label=\"test loss\")\n",
    "plt.xlabel(\"epochs\")\n",
    "plt.show()"
   ]
  },
  {
   "cell_type": "code",
   "execution_count": 57,
   "id": "728b1877",
   "metadata": {},
   "outputs": [],
   "source": [
    "#decoder_params = svi.get_params(svi_state)[\"decoder$params\"]\n",
    "#args[\"decoder_params\"] = decoder_params"
   ]
  },
  {
   "cell_type": "code",
   "execution_count": 58,
   "id": "a064737b",
   "metadata": {},
   "outputs": [],
   "source": [
    "# Save after training\n",
    "#with open('decoders/decoder_car_sim', 'wb') as file:\n",
    "#    pickle.dump(decoder_params, file)"
   ]
  },
  {
   "cell_type": "code",
   "execution_count": 14,
   "id": "27bc94a5",
   "metadata": {},
   "outputs": [
    {
     "name": "stdout",
     "output_type": "stream",
     "text": [
      "3\n"
     ]
    }
   ],
   "source": [
    "# Load \n",
    "#with open('../decoders/decoder_car_sim', 'rb') as file:\n",
    "#    decoder_params = pickle.load(file)\n",
    "#    print(len(decoder_params))\n",
    "\n",
    "#args[\"decoder_params\"] = decoder_params"
   ]
  },
  {
   "cell_type": "markdown",
   "id": "ea9ad178",
   "metadata": {},
   "source": [
    "## Plot what VAE has learnt"
   ]
  },
  {
   "cell_type": "code",
   "execution_count": 15,
   "id": "c4f6568a",
   "metadata": {},
   "outputs": [
    {
     "name": "stdout",
     "output_type": "stream",
     "text": [
      "[-0.7202531  -0.35784853 -1.0208446  -1.2482064 ]\n",
      "[-1.2692122 -0.7850826 -2.1164606 -2.2429585]\n",
      "[-1.6551777 -1.2534047 -3.1650605 -3.031913 ]\n",
      "[-1.9107622 -1.7324499 -4.131842  -3.7043884]\n",
      "[-2.0853717 -2.2143908 -5.028051  -4.3069515]\n",
      "[-2.2098477 -2.6950946 -5.8689513 -4.865675 ]\n",
      "[-2.3006446 -3.1727548 -6.6652727 -5.397427 ]\n",
      "[-2.3680036 -3.6464367 -7.4267125 -5.912489 ]\n",
      "[-2.4177845 -4.1153708 -8.160858  -6.4171343]\n",
      "[-2.45553  -4.579637 -8.872848 -6.914877]\n"
     ]
    }
   ],
   "source": [
    "decoder_params = args[\"decoder_params\"] \n",
    "z_dim, hidden_dim = decoder_params[0][0].shape\n",
    "    \n",
    "decoder_nn = vae_decoder(hidden_dim, N)  \n",
    "\n",
    "# check output of the decoder\n",
    "for i in range(10):\n",
    "    z = jnp.ones(z_dim) + i\n",
    "    print(decoder_nn[1](decoder_params, z)[0:4])"
   ]
  },
  {
   "cell_type": "code",
   "execution_count": 16,
   "id": "19501d5d",
   "metadata": {},
   "outputs": [],
   "source": [
    "def vae_sample(args):\n",
    "    \n",
    "    decoder_params = args[\"decoder_params\"] \n",
    "    z_dim, hidden_dim = decoder_params[0][0].shape\n",
    "    \n",
    "    z = numpyro.sample(\"z\", dist.Normal(jnp.zeros(z_dim), jnp.ones(z_dim)))\n",
    "    decoder_nn = vae_decoder( hidden_dim, N)  \n",
    "    car = numpyro.deterministic(\"car\", decoder_nn[1](decoder_params, z)) "
   ]
  },
  {
   "cell_type": "code",
   "execution_count": 17,
   "id": "413d6733",
   "metadata": {},
   "outputs": [],
   "source": [
    "rng_key, rng_key_predict = random.split(random.PRNGKey(2))\n",
    "vae_predictive = Predictive(vae_sample, num_samples=12)\n",
    "vae_draws = vae_predictive(rng_key_predict, args)['car']"
   ]
  },
  {
   "cell_type": "code",
   "execution_count": 18,
   "id": "0897a49d",
   "metadata": {},
   "outputs": [
    {
     "data": {
      "image/png": "[encoded data removed]",
      "text/plain": [
       "<Figure size 1368x432 with 16 Axes>"
      ]
     },
     "metadata": {
      "needs_background": "light"
     },
     "output_type": "display_data"
    },
    {
     "data": {
      "image/png": "[encoded data removed]",
      "text/plain": [
       "<Figure size 1368x432 with 16 Axes>"
      ]
     },
     "metadata": {
      "needs_background": "light"
     },
     "output_type": "display_data"
    }
   ],
   "source": [
    "plot_samps(car_draws, columns=4, rows=2, figsize = (19, 6))\n",
    "plot_samps(vae_draws, columns=4, rows=2, figsize = (19, 6), ttl=\"VAE learnt priors\")"
   ]
  },
  {
   "cell_type": "code",
   "execution_count": 19,
   "id": "a574f25c",
   "metadata": {},
   "outputs": [],
   "source": [
    "#plot_car(car_draws)\n",
    "#plot_car(vae_draws, ttl=\"VAE learnt priors\")"
   ]
  },
  {
   "cell_type": "markdown",
   "id": "d0c1791e",
   "metadata": {},
   "source": [
    "## Inference on observed data"
   ]
  },
  {
   "cell_type": "code",
   "execution_count": 20,
   "id": "dfba10bb",
   "metadata": {},
   "outputs": [],
   "source": [
    "def CAR_model(args, y=None, alpha=None, noise=None):\n",
    "    \n",
    "    A = args[\"A\"]\n",
    "    d = args[\"d\"]\n",
    "    D = jnp.diag(d)\n",
    "\n",
    "    if alpha is None:\n",
    "        #alpha = numpyro.sample('alpha', dist.Uniform(low=0.01, high=0.999))\n",
    "        alpha = numpyro.sample('alpha', dist.Uniform(low=0.4, high=0.999))\n",
    "        \n",
    "    if noise is None:\n",
    "        noise = numpyro.sample('noise', dist.Uniform(low=0.01, high=1))\n",
    "    \n",
    "    Q = (D - alpha * A)\n",
    "    \n",
    "    car = numpyro.sample('car', dist.MultivariateNormal(loc=jnp.zeros(N), precision_matrix=Q))\n",
    "    car_samples = numpyro.deterministic('car_samples', car)\n",
    "    \n",
    "    if y is None: # durinig prediction\n",
    "        numpyro.sample(\"y_pred\", dist.Normal(car, noise))\n",
    "    else: # during inference\n",
    "        numpyro.sample(\"y\", dist.Normal(car, noise), obs=y)"
   ]
  },
  {
   "cell_type": "code",
   "execution_count": 23,
   "id": "60bbe593",
   "metadata": {},
   "outputs": [],
   "source": [
    "# generate ground truth - fix alpha\n",
    "rng_key, rng_key_truth = random.split(rng_key)\n",
    "car_predictive = Predictive(CAR_model, num_samples=1)\n",
    "car_preds = car_predictive(rng_key_truth, args, alpha=0.7, noise=0.5)\n",
    "y_data = car_preds['y_pred'][0,:]\n",
    "y_truth = car_preds['car'][0,:]"
   ]
  },
  {
   "cell_type": "code",
   "execution_count": 24,
   "id": "8d997f3b",
   "metadata": {},
   "outputs": [
    {
     "data": {
      "image/png": "[encoded data removed]",
      "text/plain": [
       "<Figure size 864x288 with 4 Axes>"
      ]
     },
     "metadata": {
      "needs_background": "light"
     },
     "output_type": "display_data"
    }
   ],
   "source": [
    "plot_truth_estimate(y_truth, y_data, ttl1=\"truth\", ttl2=\"data (truth + noise)\")"
   ]
  },
  {
   "cell_type": "code",
   "execution_count": 25,
   "id": "72e17293",
   "metadata": {},
   "outputs": [],
   "source": [
    "#plt.figure()\n",
    "#plt.imshow(y_true.reshape(ny, nx)) \n",
    "#plt.title(\"Ground Truth\")\n",
    "#plt.colorbar(shrink = 0.4)\n",
    "#plt.show() "
   ]
  },
  {
   "cell_type": "markdown",
   "id": "60eef257",
   "metadata": {},
   "source": [
    "## Inference with VAE-CAR"
   ]
  },
  {
   "cell_type": "code",
   "execution_count": 26,
   "id": "26fc3254",
   "metadata": {},
   "outputs": [
    {
     "data": {
      "text/plain": [
       "150"
      ]
     },
     "execution_count": 26,
     "metadata": {},
     "output_type": "execute_result"
    }
   ],
   "source": [
    "N"
   ]
  },
  {
   "cell_type": "code",
   "execution_count": 27,
   "id": "0816cb97",
   "metadata": {},
   "outputs": [],
   "source": [
    "def VAE_model(args, y=None, noise=None):\n",
    "    \n",
    "    decoder_params = args[\"decoder_params\"] \n",
    "    z_dim, hidden_dim = decoder_params[0][0].shape\n",
    "    z = numpyro.sample(\"z\", dist.Normal(jnp.zeros(z_dim), jnp.ones(z_dim)))\n",
    "    decoder_nn = vae_decoder( hidden_dim, N)  \n",
    "    car_vae = numpyro.deterministic(\"vae_car\", decoder_nn[1](decoder_params, z))\n",
    "    \n",
    "    if noise is None:\n",
    "        noise = numpyro.sample('noise', dist.Uniform(low=0.01, high=1))\n",
    "    \n",
    "    if y is None: # durinig prediction\n",
    "        numpyro.sample(\"y_pred\", dist.Normal(car_vae, noise))\n",
    "    else: # during inference\n",
    "        numpyro.sample(\"y\", dist.Normal(car_vae, noise), obs=y)"
   ]
  },
  {
   "cell_type": "code",
   "execution_count": 28,
   "id": "3c7c37c8",
   "metadata": {},
   "outputs": [
    {
     "data": {
      "image/png": "[encoded data removed]",
      "text/plain": [
       "<Figure size 432x288 with 2 Axes>"
      ]
     },
     "metadata": {
      "needs_background": "light"
     },
     "output_type": "display_data"
    }
   ],
   "source": [
    "# VAE-CAR: prior predictive\n",
    "rng_key, rng_key_ = random.split(rng_key)\n",
    "prior_predictive = Predictive(VAE_model, num_samples=100)\n",
    "prior_predictions = prior_predictive(rng_key_, args)\n",
    "pred_obs = prior_predictions['vae_car']\n",
    "mean_prior_pred_vae = np.mean(pred_obs, axis=0)\n",
    "hpdi_prior_pred_vae = hpdi(pred_obs, 0.89)\n",
    "\n",
    "plt.figure()\n",
    "plt.imshow(mean_prior_pred_vae.reshape(ny, nx)) \n",
    "plt.colorbar(shrink=0.4)\n",
    "plt.title(\"VAE-CAR prior\")\n",
    "plt.show()"
   ]
  },
  {
   "cell_type": "code",
   "execution_count": 29,
   "id": "2ab641bc",
   "metadata": {},
   "outputs": [
    {
     "name": "stderr",
     "output_type": "stream",
     "text": [
      "sample: 100%|████████████████████████████████████████████████████████████████████████████████████████████████████| 3000/3000 [00:05<00:00, 542.85it/s, 15 steps of size 3.69e-01. acc. prob=0.88]\n"
     ]
    },
    {
     "name": "stdout",
     "output_type": "stream",
     "text": [
      "\n",
      "                  mean       std    median      5.0%     95.0%     n_eff     r_hat\n",
      "       noise      0.53      0.05      0.52      0.45      0.60   1140.61      1.00\n",
      "  vae_car[0]     -0.62      0.46     -0.63     -1.43      0.08   5118.45      1.00\n",
      "  vae_car[1]      0.31      0.41      0.31     -0.43      0.92   5829.47      1.00\n",
      "  vae_car[2]      0.71      0.42      0.70      0.06      1.42   3865.45      1.00\n",
      "  vae_car[3]      0.40      0.41      0.41     -0.26      1.10   3958.56      1.00\n",
      "  vae_car[4]     -0.73      0.41     -0.74     -1.39     -0.08   4509.61      1.00\n",
      "  vae_car[5]     -0.82      0.41     -0.82     -1.51     -0.19   4035.70      1.00\n",
      "  vae_car[6]     -0.78      0.41     -0.78     -1.47     -0.14   6267.72      1.00\n",
      "  vae_car[7]     -0.90      0.41     -0.90     -1.56     -0.26   3847.06      1.00\n",
      "  vae_car[8]     -0.20      0.40     -0.20     -0.86      0.44   4244.37      1.00\n",
      "  vae_car[9]      0.67      0.41      0.68     -0.03      1.32   4136.09      1.00\n",
      " vae_car[10]     -0.31      0.39     -0.31     -0.91      0.36   3773.67      1.00\n",
      " vae_car[11]     -0.15      0.40     -0.16     -0.75      0.54   3811.18      1.00\n",
      " vae_car[12]      0.20      0.40      0.19     -0.46      0.85   4506.93      1.00\n",
      " vae_car[13]     -0.52      0.40     -0.52     -1.19      0.15   5342.22      1.00\n",
      " vae_car[14]     -0.48      0.43     -0.48     -1.19      0.20   6407.66      1.00\n",
      " vae_car[15]     -0.43      0.39     -0.44     -1.10      0.20   4810.40      1.00\n",
      " vae_car[16]     -0.20      0.33     -0.21     -0.71      0.35   4809.74      1.00\n",
      " vae_car[17]     -0.08      0.35     -0.08     -0.67      0.44   4789.81      1.00\n",
      " vae_car[18]     -0.13      0.34     -0.14     -0.65      0.46   3811.20      1.00\n",
      " vae_car[19]     -0.38      0.35     -0.39     -0.96      0.18   5272.76      1.00\n",
      " vae_car[20]     -0.24      0.34     -0.25     -0.81      0.32   4298.37      1.00\n",
      " vae_car[21]     -0.49      0.33     -0.49     -1.01      0.04   4573.78      1.00\n",
      " vae_car[22]     -0.26      0.34     -0.26     -0.85      0.28   3649.44      1.00\n",
      " vae_car[23]     -0.17      0.36     -0.17     -0.72      0.49   5765.63      1.00\n",
      " vae_car[24]      0.03      0.35      0.04     -0.52      0.62   3528.23      1.00\n",
      " vae_car[25]     -0.69      0.35     -0.68     -1.21     -0.08   3996.98      1.00\n",
      " vae_car[26]     -0.27      0.36     -0.28     -0.86      0.30   6420.65      1.00\n",
      " vae_car[27]     -0.21      0.34     -0.21     -0.77      0.34   4754.98      1.00\n",
      " vae_car[28]     -0.87      0.32     -0.87     -1.42     -0.36   4366.31      1.00\n",
      " vae_car[29]     -0.91      0.42     -0.92     -1.59     -0.24   5670.86      1.00\n",
      " vae_car[30]     -0.64      0.41     -0.64     -1.30      0.02   3950.23      1.00\n",
      " vae_car[31]     -0.21      0.35     -0.21     -0.77      0.37   5207.07      1.00\n",
      " vae_car[32]      0.10      0.36      0.10     -0.48      0.74   5063.67      1.00\n",
      " vae_car[33]     -0.19      0.36     -0.19     -0.81      0.36   4638.22      1.00\n",
      " vae_car[34]      0.53      0.36      0.54     -0.04      1.14   4707.02      1.00\n",
      " vae_car[35]      0.88      0.37      0.89      0.25      1.47   4928.26      1.00\n",
      " vae_car[36]      0.10      0.34      0.10     -0.44      0.68   5442.73      1.00\n",
      " vae_car[37]     -0.05      0.35     -0.05     -0.60      0.54   4045.48      1.00\n",
      " vae_car[38]     -0.41      0.34     -0.40     -0.96      0.18   3737.12      1.00\n",
      " vae_car[39]     -0.33      0.34     -0.33     -0.92      0.20   5049.01      1.00\n",
      " vae_car[40]     -1.24      0.36     -1.24     -1.84     -0.66   4181.91      1.00\n",
      " vae_car[41]     -1.08      0.35     -1.08     -1.64     -0.50   4870.81      1.00\n",
      " vae_car[42]     -1.33      0.35     -1.34     -1.90     -0.75   4193.67      1.00\n",
      " vae_car[43]     -1.48      0.35     -1.48     -2.08     -0.93   3538.14      1.00\n",
      " vae_car[44]     -1.03      0.41     -1.04     -1.69     -0.39   5099.38      1.00\n",
      " vae_car[45]     -0.75      0.44     -0.76     -1.42      0.03   4124.74      1.00\n",
      " vae_car[46]     -0.26      0.35     -0.27     -0.87      0.29   3515.90      1.00\n",
      " vae_car[47]      0.34      0.36      0.35     -0.22      0.94   4716.99      1.00\n",
      " vae_car[48]     -0.19      0.35     -0.20     -0.72      0.45   5573.68      1.00\n",
      " vae_car[49]      0.36      0.34      0.36     -0.19      0.91   3997.51      1.00\n",
      " vae_car[50]      0.43      0.34      0.43     -0.14      0.97   5681.13      1.00\n",
      " vae_car[51]     -0.57      0.35     -0.58     -1.14     -0.02   4142.89      1.00\n",
      " vae_car[52]     -0.80      0.34     -0.80     -1.36     -0.25   4456.37      1.00\n",
      " vae_car[53]     -0.74      0.33     -0.75     -1.29     -0.23   4550.40      1.00\n",
      " vae_car[54]     -0.07      0.34     -0.07     -0.62      0.50   3432.85      1.00\n",
      " vae_car[55]     -0.79      0.34     -0.79     -1.36     -0.24   3829.71      1.00\n",
      " vae_car[56]     -0.93      0.34     -0.93     -1.45     -0.33   4788.35      1.00\n",
      " vae_car[57]     -1.02      0.33     -1.02     -1.56     -0.50   4816.25      1.00\n",
      " vae_car[58]     -0.96      0.32     -0.97     -1.53     -0.46   4877.89      1.00\n",
      " vae_car[59]     -0.70      0.40     -0.69     -1.36     -0.06   5372.23      1.00\n",
      " vae_car[60]     -0.55      0.41     -0.55     -1.20      0.11   4221.73      1.00\n",
      " vae_car[61]     -0.41      0.37     -0.41     -0.96      0.22   4606.11      1.00\n",
      " vae_car[62]      0.50      0.37      0.50     -0.14      1.08   5053.62      1.00\n",
      " vae_car[63]      0.36      0.36      0.36     -0.22      0.92   4395.39      1.00\n",
      " vae_car[64]      0.63      0.35      0.63      0.06      1.20   4494.31      1.00\n",
      " vae_car[65]      0.73      0.35      0.74      0.16      1.32   4196.38      1.00\n",
      " vae_car[66]      0.10      0.35      0.11     -0.47      0.66   6167.01      1.00\n",
      " vae_car[67]     -0.19      0.35     -0.18     -0.74      0.42   4810.34      1.00\n",
      " vae_car[68]      0.02      0.35      0.01     -0.55      0.61   5594.22      1.00\n",
      " vae_car[69]      0.45      0.36      0.45     -0.10      1.07   5018.17      1.00\n",
      " vae_car[70]     -0.25      0.36     -0.25     -0.85      0.30   4676.84      1.00\n",
      " vae_car[71]     -0.86      0.34     -0.86     -1.42     -0.28   4491.41      1.00\n",
      " vae_car[72]     -0.73      0.36     -0.73     -1.33     -0.19   4076.59      1.00\n",
      " vae_car[73]     -0.51      0.33     -0.51     -1.05      0.02   4999.36      1.00\n",
      " vae_car[74]     -0.45      0.40     -0.44     -1.14      0.18   4717.84      1.00\n",
      " vae_car[75]      0.35      0.41      0.36     -0.28      1.06   3649.40      1.00\n",
      " vae_car[76]      0.45      0.33      0.46     -0.09      0.98   4202.67      1.00\n",
      " vae_car[77]      0.94      0.35      0.94      0.40      1.56   5296.42      1.00\n",
      " vae_car[78]      0.03      0.34      0.03     -0.52      0.59   4117.31      1.00\n",
      " vae_car[79]     -0.02      0.35     -0.02     -0.59      0.54   5137.78      1.00\n",
      " vae_car[80]      0.46      0.34      0.45     -0.08      1.03   4732.76      1.00\n",
      " vae_car[81]      0.72      0.34      0.72      0.16      1.27   5196.43      1.00\n",
      " vae_car[82]      0.41      0.34      0.41     -0.12      0.97   4673.10      1.00\n",
      " vae_car[83]     -0.08      0.34     -0.09     -0.63      0.50   5427.47      1.00\n",
      " vae_car[84]     -0.16      0.34     -0.15     -0.73      0.37   4798.02      1.00\n",
      " vae_car[85]     -0.34      0.34     -0.34     -0.85      0.27   4205.26      1.00\n",
      " vae_car[86]     -0.40      0.33     -0.39     -0.96      0.12   5939.18      1.00\n",
      " vae_car[87]      0.15      0.35      0.15     -0.47      0.68   4604.98      1.00\n",
      " vae_car[88]     -0.16      0.34     -0.15     -0.72      0.39   3669.26      1.00\n",
      " vae_car[89]     -0.24      0.42     -0.24     -0.95      0.44   4322.39      1.00\n",
      " vae_car[90]     -0.23      0.42     -0.22     -0.91      0.45   4059.45      1.00\n",
      " vae_car[91]      0.34      0.35      0.34     -0.24      0.88   4248.65      1.00\n",
      " vae_car[92]      0.98      0.35      0.99      0.38      1.51   4793.13      1.00\n",
      " vae_car[93]     -0.09      0.33     -0.10     -0.62      0.46   4422.13      1.00\n",
      " vae_car[94]     -0.20      0.35     -0.20     -0.74      0.43   4964.76      1.00\n",
      " vae_car[95]      0.41      0.35      0.42     -0.15      1.01   6249.13      1.00\n",
      " vae_car[96]      0.36      0.33      0.36     -0.21      0.89   4554.13      1.00\n",
      " vae_car[97]      0.25      0.34      0.24     -0.29      0.81   4161.72      1.00\n",
      " vae_car[98]      0.20      0.34      0.20     -0.40      0.72   5035.42      1.00\n",
      " vae_car[99]     -0.07      0.34     -0.07     -0.67      0.45   4635.78      1.00\n",
      "vae_car[100]     -0.42      0.34     -0.42     -0.95      0.15   3916.11      1.00\n",
      "vae_car[101]     -0.44      0.34     -0.44     -1.03      0.06   4715.30      1.00\n",
      "vae_car[102]      0.25      0.35      0.24     -0.36      0.79   4356.39      1.00\n",
      "vae_car[103]      0.20      0.34      0.21     -0.38      0.74   3759.91      1.00\n",
      "vae_car[104]      0.53      0.40      0.53     -0.08      1.22   5155.44      1.00\n",
      "vae_car[105]      0.98      0.41      0.99      0.25      1.58   4646.94      1.00\n",
      "vae_car[106]     -0.11      0.34     -0.11     -0.62      0.48   4146.31      1.00\n",
      "vae_car[107]     -0.12      0.36     -0.12     -0.71      0.47   4659.06      1.00\n",
      "vae_car[108]     -0.22      0.34     -0.23     -0.78      0.35   4648.98      1.00\n",
      "vae_car[109]      0.16      0.36      0.15     -0.43      0.73   4897.67      1.00\n",
      "vae_car[110]      0.56      0.34      0.56      0.01      1.12   3982.52      1.00\n",
      "vae_car[111]      0.01      0.35      0.01     -0.52      0.64   5666.50      1.00\n",
      "vae_car[112]     -0.05      0.34     -0.05     -0.62      0.49   3987.94      1.00\n",
      "vae_car[113]      0.30      0.35      0.30     -0.32      0.81   4392.54      1.00\n",
      "vae_car[114]      0.22      0.34      0.22     -0.32      0.81   4679.02      1.00\n",
      "vae_car[115]     -0.01      0.35     -0.01     -0.57      0.59   5698.60      1.00\n",
      "vae_car[116]     -0.44      0.33     -0.43     -0.97      0.11   4896.64      1.00\n",
      "vae_car[117]     -0.07      0.36     -0.07     -0.57      0.58   4228.63      1.00\n",
      "vae_car[118]      0.06      0.34      0.07     -0.47      0.63   5392.19      1.00\n",
      "vae_car[119]      0.45      0.40      0.44     -0.20      1.10   4666.10      1.00\n",
      "vae_car[120]      0.21      0.41      0.21     -0.44      0.87   4552.97      1.00\n",
      "vae_car[121]     -0.59      0.32     -0.59     -1.08     -0.04   4121.26      1.00\n",
      "vae_car[122]     -0.40      0.34     -0.39     -0.95      0.12   4449.03      1.00\n",
      "vae_car[123]     -0.03      0.34     -0.03     -0.60      0.50   3913.10      1.00\n",
      "vae_car[124]      0.26      0.36      0.25     -0.33      0.84   4830.80      1.00\n",
      "vae_car[125]      0.23      0.35      0.22     -0.31      0.84   4324.05      1.00\n",
      "vae_car[126]      0.26      0.35      0.26     -0.28      0.86   6211.31      1.00\n",
      "vae_car[127]      0.16      0.34      0.16     -0.43      0.69   4411.11      1.00\n",
      "vae_car[128]      0.34      0.34      0.34     -0.21      0.87   4960.39      1.00\n",
      "vae_car[129]     -0.15      0.34     -0.15     -0.76      0.37   5277.29      1.00\n",
      "vae_car[130]     -0.17      0.35     -0.18     -0.77      0.41   5054.62      1.00\n",
      "vae_car[131]     -0.23      0.35     -0.23     -0.82      0.31   5014.61      1.00\n",
      "vae_car[132]      0.27      0.35      0.27     -0.27      0.88   4529.24      1.00\n",
      "vae_car[133]      0.10      0.34      0.10     -0.42      0.69   4341.77      1.00\n",
      "vae_car[134]     -0.29      0.41     -0.30     -0.98      0.35   5461.72      1.00\n",
      "vae_car[135]     -0.05      0.43     -0.05     -0.82      0.59   3794.43      1.00\n",
      "vae_car[136]     -0.19      0.41     -0.19     -0.84      0.52   4594.16      1.00\n",
      "vae_car[137]     -0.59      0.40     -0.59     -1.23      0.08   4899.28      1.00\n",
      "vae_car[138]     -0.61      0.41     -0.61     -1.23      0.09   4159.26      1.00\n",
      "vae_car[139]     -0.03      0.41     -0.04     -0.73      0.60   4722.25      1.00\n",
      "vae_car[140]      0.55      0.41      0.55     -0.13      1.23   3747.11      1.00\n",
      "vae_car[141]      0.73      0.41      0.74      0.05      1.37   5285.85      1.00\n",
      "vae_car[142]     -0.03      0.41     -0.04     -0.72      0.62   5649.82      1.00\n",
      "vae_car[143]     -0.00      0.41     -0.01     -0.65      0.68   5256.86      1.00\n",
      "vae_car[144]     -0.68      0.41     -0.67     -1.33     -0.02   3974.47      1.00\n",
      "vae_car[145]     -0.49      0.40     -0.50     -1.19      0.16   4787.51      1.00\n",
      "vae_car[146]     -0.33      0.42     -0.33     -1.01      0.35   4363.21      1.00\n",
      "vae_car[147]      0.39      0.42      0.38     -0.27      1.10   4326.93      1.00\n",
      "vae_car[148]      0.35      0.42      0.36     -0.33      1.03   4290.75      1.00\n",
      "vae_car[149]     -0.52      0.44     -0.52     -1.22      0.24   4448.01      1.00\n",
      "        z[0]      0.77      0.67      0.78     -0.35      1.86   4385.36      1.00\n",
      "        z[1]     -0.67      0.69     -0.69     -1.81      0.40   4419.93      1.00\n",
      "        z[2]      0.75      0.59      0.75     -0.23      1.69   4368.55      1.00\n",
      "        z[3]      0.09      0.62      0.09     -0.92      1.08   5345.53      1.00\n",
      "        z[4]     -0.33      0.38     -0.31     -0.92      0.31   4806.32      1.00\n",
      "        z[5]      0.21      0.69      0.20     -0.83      1.49   5030.95      1.00\n",
      "        z[6]      1.11      0.35      1.11      0.54      1.68   3878.51      1.00\n",
      "        z[7]      0.20      0.68      0.20     -0.89      1.34   4109.18      1.00\n",
      "        z[8]      0.02      0.97      0.02     -1.49      1.64   5402.23      1.00\n",
      "        z[9]     -0.09      0.70     -0.08     -1.22      1.09   4653.65      1.00\n",
      "       z[10]      0.39      0.72      0.41     -0.81      1.57   4091.27      1.00\n",
      "       z[11]     -0.39      0.69     -0.41     -1.48      0.77   4239.17      1.00\n",
      "       z[12]     -0.36      0.58     -0.36     -1.32      0.58   4492.35      1.00\n",
      "       z[13]      0.39      0.57      0.39     -0.56      1.28   6310.81      1.00\n",
      "       z[14]      0.04      1.00      0.04     -1.59      1.66   4247.61      1.00\n",
      "       z[15]      0.34      0.67      0.36     -0.71      1.50   4766.90      1.00\n",
      "       z[16]      0.78      0.28      0.78      0.32      1.25   3515.02      1.00\n",
      "       z[17]     -0.24      0.69     -0.26     -1.42      0.85   6167.41      1.00\n",
      "       z[18]      0.56      0.64      0.56     -0.41      1.68   4305.87      1.00\n",
      "       z[19]     -0.02      1.02     -0.00     -1.64      1.63   4742.03      1.00\n",
      "       z[20]     -0.59      0.52     -0.60     -1.36      0.33   5396.92      1.00\n",
      "       z[21]     -0.72      0.69     -0.70     -1.84      0.41   4079.72      1.00\n",
      "       z[22]      0.83      0.73      0.83     -0.34      2.02   3860.62      1.00\n",
      "       z[23]     -0.12      0.68     -0.11     -1.25      0.95   4851.88      1.00\n",
      "       z[24]     -0.91      0.63     -0.91     -1.95      0.10   4758.35      1.00\n",
      "       z[25]     -0.58      0.56     -0.58     -1.45      0.37   3206.08      1.00\n",
      "       z[26]      0.02      0.62      0.01     -0.94      1.08   4359.84      1.00\n",
      "       z[27]      0.14      0.53      0.15     -0.67      0.98   5158.16      1.00\n",
      "       z[28]     -0.30      0.49     -0.31     -1.13      0.47   6319.73      1.00\n",
      "       z[29]      0.36      0.67      0.36     -0.73      1.45   5699.05      1.00\n",
      "       z[30]     -0.45      0.69     -0.44     -1.64      0.63   5066.89      1.00\n",
      "       z[31]      0.49      0.54      0.50     -0.40      1.36   4586.23      1.00\n",
      "       z[32]     -1.69      0.55     -1.70     -2.62     -0.82   4069.34      1.00\n",
      "       z[33]     -0.15      0.70     -0.13     -1.26      1.04   3924.39      1.00\n",
      "       z[34]      0.80      0.62      0.82     -0.29      1.76   4139.47      1.00\n",
      "       z[35]      1.06      0.64      1.07      0.07      2.14   4773.31      1.00\n",
      "       z[36]      0.08      0.66      0.07     -0.96      1.19   5786.28      1.00\n",
      "       z[37]      0.28      0.70      0.28     -0.87      1.39   5985.97      1.00\n",
      "       z[38]     -0.44      0.40     -0.45     -1.13      0.18   3775.77      1.00\n",
      "       z[39]     -0.09      0.67     -0.10     -1.18      1.04   4365.81      1.00\n",
      "       z[40]     -0.95      0.66     -0.94     -2.07      0.10   4027.19      1.00\n",
      "       z[41]     -0.60      0.66     -0.59     -1.76      0.39   4765.83      1.00\n",
      "       z[42]      0.15      0.55      0.16     -0.73      1.06   4437.40      1.00\n",
      "       z[43]      0.54      0.65      0.52     -0.55      1.57   4203.42      1.00\n",
      "       z[44]      0.86      0.73      0.85     -0.33      1.99   4240.97      1.00\n",
      "       z[45]     -0.69      0.51     -0.69     -1.56      0.13   5616.55      1.00\n",
      "       z[46]      0.67      0.65      0.68     -0.39      1.75   5111.07      1.00\n",
      "       z[47]      0.23      0.66      0.24     -0.82      1.30   4066.42      1.00\n",
      "       z[48]      0.06      0.66      0.07     -1.02      1.16   4070.34      1.00\n",
      "       z[49]      0.78      0.43      0.79      0.09      1.50   5755.60      1.00\n",
      "       z[50]      0.02      0.98      0.04     -1.64      1.56   3900.27      1.00\n",
      "       z[51]      0.02      1.00      0.01     -1.82      1.56   4287.10      1.00\n",
      "       z[52]      0.34      0.59      0.35     -0.65      1.26   5459.18      1.00\n",
      "       z[53]     -0.31      0.71     -0.30     -1.46      0.84   4199.86      1.00\n",
      "       z[54]      0.32      0.63      0.31     -0.84      1.25   3969.87      1.00\n",
      "       z[55]      0.25      0.53      0.25     -0.66      1.08   4271.09      1.00\n",
      "       z[56]      0.17      0.68      0.17     -0.98      1.25   4519.58      1.00\n",
      "       z[57]     -0.06      0.98     -0.07     -1.52      1.66   4350.84      1.00\n",
      "       z[58]      0.20      0.67      0.21     -0.95      1.35   4184.68      1.00\n",
      "       z[59]      0.17      0.64      0.18     -0.89      1.20   4497.86      1.00\n",
      "       z[60]      0.21      0.63      0.21     -0.86      1.23   4839.65      1.00\n",
      "       z[61]     -0.84      0.71     -0.82     -2.10      0.26   4405.37      1.00\n",
      "       z[62]      0.56      0.63      0.57     -0.49      1.54   4011.01      1.00\n",
      "       z[63]      1.36      0.66      1.38      0.27      2.44   5388.34      1.00\n",
      "       z[64]     -0.08      0.63     -0.09     -1.16      0.89   3996.47      1.00\n",
      "       z[65]      0.01      1.01      0.00     -1.61      1.62   5188.71      1.00\n",
      "       z[66]     -0.00      0.66     -0.02     -1.07      1.09   4124.13      1.00\n",
      "       z[67]      0.03      0.65      0.03     -1.05      1.06   4583.73      1.00\n",
      "       z[68]      1.07      0.53      1.07      0.12      1.87   4875.08      1.00\n",
      "       z[69]      0.02      1.04      0.01     -1.75      1.66   3707.47      1.00\n",
      "       z[70]      0.26      0.60      0.26     -0.82      1.16   4335.47      1.00\n",
      "       z[71]      0.79      0.68      0.79     -0.32      1.98   4403.49      1.00\n",
      "       z[72]      1.31      0.73      1.32      0.16      2.53   3890.84      1.00\n",
      "       z[73]      0.07      0.53      0.08     -0.78      0.92   4285.39      1.00\n",
      "       z[74]     -0.18      0.61     -0.19     -1.14      0.86   5527.19      1.00\n",
      "       z[75]     -0.00      1.01     -0.03     -1.59      1.78   4730.10      1.00\n",
      "       z[76]     -0.15      0.74     -0.16     -1.25      1.10   5030.20      1.00\n",
      "       z[77]     -0.38      0.67     -0.38     -1.52      0.72   5716.75      1.00\n",
      "       z[78]     -1.67      0.37     -1.68     -2.25     -1.02   5250.42      1.00\n",
      "       z[79]      0.82      0.67      0.82     -0.27      1.91   4045.95      1.00\n",
      "       z[80]     -0.02      0.70     -0.03     -1.11      1.14   4355.28      1.00\n",
      "       z[81]     -2.07      0.50     -2.08     -2.92     -1.27   4670.85      1.00\n",
      "       z[82]     -1.16      0.66     -1.16     -2.17     -0.03   4685.48      1.00\n",
      "       z[83]      0.02      0.97      0.01     -1.70      1.51   4943.53      1.00\n",
      "       z[84]      0.38      0.68      0.39     -0.80      1.43   3826.78      1.00\n",
      "       z[85]     -0.59      0.66     -0.59     -1.67      0.46   4237.61      1.00\n",
      "       z[86]      0.53      0.48      0.53     -0.23      1.33   5314.68      1.00\n",
      "       z[87]      0.05      0.40      0.05     -0.62      0.67   4301.79      1.00\n",
      "       z[88]     -0.91      0.54     -0.91     -1.76      0.00   4107.82      1.00\n",
      "       z[89]     -0.80      0.60     -0.80     -1.76      0.15   5107.98      1.00\n",
      "       z[90]     -0.56      0.63     -0.56     -1.58      0.49   5548.36      1.00\n",
      "       z[91]     -0.33      0.64     -0.34     -1.50      0.62   5326.04      1.00\n",
      "       z[92]     -0.09      0.66     -0.08     -1.18      1.01   4202.05      1.00\n",
      "       z[93]     -0.36      0.70     -0.36     -1.47      0.84   7412.64      1.00\n",
      "       z[94]     -1.28      0.65     -1.29     -2.32     -0.17   4055.98      1.00\n",
      "       z[95]      0.32      0.67      0.32     -0.83      1.38   3476.13      1.00\n",
      "       z[96]     -0.31      0.63     -0.31     -1.37      0.67   4531.76      1.00\n",
      "       z[97]      0.05      0.64      0.04     -0.98      1.10   4639.83      1.00\n",
      "       z[98]     -0.16      0.65     -0.18     -1.15      0.92   5171.94      1.00\n",
      "       z[99]      0.15      0.45      0.15     -0.61      0.84   4719.99      1.00\n",
      "      z[100]     -0.01      1.00     -0.04     -1.63      1.56   4730.63      1.00\n",
      "      z[101]      1.04      0.61      1.03      0.00      2.00   5280.86      1.00\n",
      "      z[102]     -0.31      0.56     -0.30     -1.26      0.56   3855.55      1.00\n",
      "      z[103]     -0.07      0.64     -0.08     -1.15      0.93   5213.29      1.00\n",
      "      z[104]     -0.21      0.66     -0.21     -1.38      0.77   4611.17      1.00\n",
      "      z[105]     -1.20      0.73     -1.21     -2.38     -0.02   4853.08      1.00\n",
      "      z[106]      1.15      0.62      1.16      0.21      2.23   4234.78      1.00\n",
      "      z[107]      0.10      0.71      0.09     -1.02      1.30   5823.15      1.00\n",
      "      z[108]      0.21      0.67      0.21     -0.96      1.26   4892.48      1.00\n",
      "      z[109]      0.14      0.71      0.14     -0.98      1.31   6757.71      1.00\n",
      "      z[110]     -0.16      0.67     -0.16     -1.24      0.95   5179.07      1.00\n",
      "      z[111]     -0.55      0.73     -0.55     -1.68      0.73   4798.81      1.00\n",
      "      z[112]     -0.31      0.64     -0.32     -1.36      0.71   3908.98      1.00\n",
      "      z[113]     -0.29      0.43     -0.31     -0.96      0.44   4979.25      1.00\n",
      "      z[114]     -0.34      0.69     -0.33     -1.46      0.85   7213.60      1.00\n",
      "      z[115]      0.74      0.73      0.76     -0.47      1.89   4913.41      1.00\n",
      "      z[116]      0.85      0.64      0.86     -0.20      1.83   4712.50      1.00\n",
      "      z[117]     -0.83      0.71     -0.84     -1.91      0.45   4772.41      1.00\n",
      "      z[118]     -0.33      0.58     -0.33     -1.22      0.63   4218.14      1.00\n",
      "      z[119]      0.75      0.49      0.75     -0.13      1.50   4330.80      1.00\n",
      "      z[120]      0.87      0.64      0.88     -0.28      1.85   5795.05      1.00\n",
      "      z[121]      0.60      0.64      0.61     -0.47      1.63   6027.09      1.00\n",
      "      z[122]      0.08      0.75      0.10     -1.07      1.34   4535.40      1.00\n",
      "      z[123]      1.96      0.56      1.98      1.03      2.89   4655.02      1.00\n",
      "      z[124]      1.06      0.63      1.06     -0.08      1.98   5624.24      1.00\n",
      "      z[125]      1.21      0.58      1.23      0.30      2.19   3821.64      1.00\n",
      "      z[126]     -0.04      0.97     -0.06     -1.70      1.53   4617.85      1.00\n",
      "      z[127]     -1.48      0.65     -1.49     -2.54     -0.44   4131.65      1.00\n",
      "      z[128]      1.27      0.66      1.25      0.17      2.32   3954.53      1.00\n",
      "      z[129]      1.01      0.45      1.02      0.24      1.68   4162.30      1.00\n",
      "\n",
      "Number of divergences: 0\n"
     ]
    }
   ],
   "source": [
    "# inference\n",
    "start = time.time()\n",
    "init_strategy = init_to_median(num_samples=10)\n",
    "kernel = NUTS(VAE_model, init_strategy=init_strategy)\n",
    "mcmc = MCMC(kernel, num_warmup=1000, num_samples=2000)\n",
    "rng_key, rng_key_infer = random.split(rng_key)\n",
    "mcmc.run(rng_key_infer, args, y=y_data)\n",
    "mcmc_samples = mcmc.get_samples()\n",
    "mcmc.print_summary(exclude_deterministic=False)\n",
    "t_elapsed = time.time() - start"
   ]
  },
  {
   "cell_type": "code",
   "execution_count": 31,
   "id": "996bc828",
   "metadata": {},
   "outputs": [
    {
     "name": "stdout",
     "output_type": "stream",
     "text": [
      "\n",
      "MCMC elapsed time: 9 s\n",
      "Average ESS for all CAR effects : 4650\n"
     ]
    }
   ],
   "source": [
    "print(\"\\nMCMC elapsed time:\", round(t_elapsed), \"s\")\n",
    "ss = numpyro.diagnostics.summary(mcmc.get_samples(group_by_chain=True))\n",
    "r = np.mean(ss['vae_car']['n_eff'])\n",
    "print(\"Average ESS for all CAR effects : \" + str(round(r)))"
   ]
  },
  {
   "cell_type": "code",
   "execution_count": 32,
   "id": "a1985e30",
   "metadata": {},
   "outputs": [
    {
     "data": {
      "text/plain": [
       "dict_keys(['noise', 'vae_car', 'z'])"
      ]
     },
     "execution_count": 32,
     "metadata": {},
     "output_type": "execute_result"
    }
   ],
   "source": [
    "mcmc_samples.keys()"
   ]
  },
  {
   "cell_type": "code",
   "execution_count": 33,
   "id": "09da388b",
   "metadata": {},
   "outputs": [],
   "source": [
    "# posterior predictive\n",
    "rng_key, rng_key_ = random.split(rng_key)\n",
    "posterior_predictive = Predictive(VAE_model, mcmc_samples)\n",
    "posterior_predictions = posterior_predictive(rng_key_, args)\n",
    "post_obs = posterior_predictions['vae_car']\n",
    "mean_post_pred_vae = np.mean(post_obs, axis=0)\n",
    "hpdi_post_pred_vae = hpdi(post_obs, 0.9)"
   ]
  },
  {
   "cell_type": "code",
   "execution_count": 34,
   "id": "75871e98",
   "metadata": {},
   "outputs": [
    {
     "data": {
      "image/png": "[encoded data removed]",
      "text/plain": [
       "<Figure size 1296x288 with 6 Axes>"
      ]
     },
     "metadata": {
      "needs_background": "light"
     },
     "output_type": "display_data"
    }
   ],
   "source": [
    "plot_truth_car_vae(y_data, y_truth, mean_post_pred_vae, ttl1=\"data (truth + noise)\", ttl2=\"truth\", ttl3=\"VAE estimate\")"
   ]
  },
  {
   "cell_type": "code",
   "execution_count": 35,
   "id": "ad4b21fd",
   "metadata": {},
   "outputs": [
    {
     "data": {
      "text/plain": [
       "Text(0, 0.5, 'VAE post. predictive')"
      ]
     },
     "execution_count": 35,
     "metadata": {},
     "output_type": "execute_result"
    },
    {
     "data": {
      "image/png": "[encoded data removed]",
      "text/plain": [
       "<Figure size 288x288 with 1 Axes>"
      ]
     },
     "metadata": {
      "needs_background": "light"
     },
     "output_type": "display_data"
    }
   ],
   "source": [
    "mx = np.max([y_truth, mean_post_pred_vae])\n",
    "plt.rcParams[\"figure.figsize\"] = (4,4)\n",
    "plt.scatter(y_truth, mean_post_pred_vae)\n",
    "plt.ylim(0, mx+0.1)\n",
    "plt.xlim(0, mx+0.1)\n",
    "plt.axline((1, 1), slope=1, ls=\"--\", c=\".3\")\n",
    "plt.xlabel(\"y-true\")\n",
    "plt.ylabel(\"VAE post. predictive\")"
   ]
  },
  {
   "cell_type": "code",
   "execution_count": 36,
   "id": "1141d6df",
   "metadata": {},
   "outputs": [
    {
     "name": "stdout",
     "output_type": "stream",
     "text": [
      "0.13550423\n"
     ]
    }
   ],
   "source": [
    "MSE_vae = np.mean((y_truth -  mean_post_pred_vae)**2)\n",
    "print(MSE_vae)"
   ]
  },
  {
   "cell_type": "markdown",
   "id": "853d87b7",
   "metadata": {},
   "source": [
    "## Inference with CAR"
   ]
  },
  {
   "cell_type": "code",
   "execution_count": 37,
   "id": "19aef535",
   "metadata": {},
   "outputs": [
    {
     "name": "stderr",
     "output_type": "stream",
     "text": [
      "sample: 100%|█████████████████████████████████████████████████████████████████████████████████████████████████████| 3000/3000 [01:09<00:00, 43.16it/s, 15 steps of size 2.96e-01. acc. prob=0.89]\n"
     ]
    },
    {
     "name": "stdout",
     "output_type": "stream",
     "text": [
      "\n",
      "                      mean       std    median      5.0%     95.0%     n_eff     r_hat\n",
      "           alpha      0.88      0.07      0.90      0.79      0.99   1884.69      1.00\n",
      "          car[0]     -0.69      0.35     -0.69     -1.27     -0.12   3177.42      1.00\n",
      "          car[1]      0.33      0.35      0.33     -0.24      0.88   3030.66      1.00\n",
      "          car[2]      0.80      0.34      0.81      0.25      1.38   2306.83      1.00\n",
      "          car[3]      0.48      0.34      0.49     -0.09      1.01   3437.17      1.00\n",
      "          car[4]     -0.79      0.35     -0.80     -1.41     -0.28   3175.64      1.00\n",
      "          car[5]     -0.88      0.34     -0.88     -1.41     -0.34   2966.70      1.00\n",
      "          car[6]     -0.89      0.33     -0.90     -1.39     -0.31   3348.38      1.00\n",
      "          car[7]     -0.97      0.35     -0.96     -1.58     -0.44   2404.15      1.00\n",
      "          car[8]     -0.15      0.34     -0.15     -0.72      0.42   4858.64      1.00\n",
      "          car[9]      0.66      0.34      0.67      0.09      1.20   2170.68      1.00\n",
      "         car[10]     -0.18      0.34     -0.18     -0.73      0.38   3411.46      1.00\n",
      "         car[11]     -0.27      0.34     -0.28     -0.82      0.28   3179.68      1.00\n",
      "         car[12]      0.36      0.34      0.36     -0.16      0.96   2227.93      1.00\n",
      "         car[13]     -0.57      0.33     -0.57     -1.13     -0.04   3898.92      1.00\n",
      "         car[14]     -0.47      0.36     -0.46     -1.11      0.07   3137.67      1.00\n",
      "         car[15]     -0.56      0.33     -0.56     -1.08     -0.00   3453.47      1.00\n",
      "         car[16]      0.01      0.32      0.00     -0.51      0.53   3257.57      1.00\n",
      "         car[17]     -0.12      0.33     -0.13     -0.63      0.43   3690.08      1.00\n",
      "         car[18]     -0.26      0.33     -0.26     -0.78      0.29   4098.75      1.00\n",
      "         car[19]     -0.37      0.33     -0.37     -0.92      0.18   2851.97      1.00\n",
      "         car[20]     -0.33      0.32     -0.33     -0.86      0.13   3910.75      1.00\n",
      "         car[21]     -0.37      0.31     -0.38     -0.85      0.16   3913.47      1.00\n",
      "         car[22]     -0.37      0.33     -0.37     -0.90      0.17   3388.64      1.00\n",
      "         car[23]     -0.23      0.33     -0.23     -0.76      0.31   3293.39      1.00\n",
      "         car[24]      0.27      0.33      0.28     -0.29      0.80   2849.87      1.00\n",
      "         car[25]     -0.94      0.31     -0.95     -1.44     -0.41   1624.28      1.00\n",
      "         car[26]     -0.00      0.34     -0.00     -0.56      0.54   2775.86      1.00\n",
      "         car[27]     -0.39      0.32     -0.39     -0.94      0.11   2734.96      1.00\n",
      "         car[28]     -0.83      0.34     -0.84     -1.37     -0.27   2920.17      1.00\n",
      "         car[29]     -0.97      0.34     -0.97     -1.53     -0.42   3104.04      1.00\n",
      "         car[30]     -0.58      0.35     -0.59     -1.11      0.01   4801.64      1.00\n",
      "         car[31]     -0.49      0.32     -0.50     -1.03      0.02   3404.03      1.00\n",
      "         car[32]      0.12      0.32      0.11     -0.40      0.64   3720.81      1.00\n",
      "         car[33]     -0.11      0.33     -0.11     -0.65      0.43   3481.32      1.00\n",
      "         car[34]      0.61      0.32      0.62      0.06      1.13   2783.14      1.00\n",
      "         car[35]      1.00      0.33      1.00      0.52      1.57   1748.78      1.00\n",
      "         car[36]     -0.04      0.31     -0.04     -0.59      0.45   4496.68      1.00\n",
      "         car[37]      0.02      0.33      0.03     -0.54      0.52   3082.02      1.00\n",
      "         car[38]     -0.31      0.34     -0.32     -0.85      0.25   3425.96      1.00\n",
      "         car[39]     -0.52      0.34     -0.52     -1.05      0.02   3767.80      1.00\n",
      "         car[40]     -1.32      0.35     -1.33     -1.92     -0.77   2164.10      1.00\n",
      "         car[41]     -1.19      0.33     -1.19     -1.70     -0.63   3405.66      1.00\n",
      "         car[42]     -1.42      0.35     -1.43     -2.01     -0.87   1859.35      1.00\n",
      "         car[43]     -1.57      0.34     -1.58     -2.14     -1.02   1435.53      1.00\n",
      "         car[44]     -1.15      0.34     -1.15     -1.70     -0.60   2882.50      1.00\n",
      "         car[45]     -0.92      0.35     -0.92     -1.48     -0.36   2120.63      1.00\n",
      "         car[46]     -0.18      0.32     -0.18     -0.70      0.32   3524.29      1.00\n",
      "         car[47]      0.39      0.34      0.39     -0.14      0.94   2255.66      1.00\n",
      "         car[48]     -0.23      0.32     -0.23     -0.77      0.29   3028.49      1.00\n",
      "         car[49]      0.14      0.33      0.13     -0.35      0.73   4244.02      1.00\n",
      "         car[50]      0.79      0.33      0.80      0.25      1.33   1944.25      1.00\n",
      "         car[51]     -0.69      0.35     -0.70     -1.20     -0.09   2071.75      1.00\n",
      "         car[52]     -0.76      0.34     -0.76     -1.31     -0.24   2948.41      1.00\n",
      "         car[53]     -1.12      0.36     -1.14     -1.72     -0.55   1231.85      1.00\n",
      "         car[54]      0.09      0.34      0.10     -0.48      0.65   2951.79      1.00\n",
      "         car[55]     -0.67      0.32     -0.67     -1.18     -0.14   3397.28      1.00\n",
      "         car[56]     -1.21      0.33     -1.22     -1.72     -0.66   3166.74      1.00\n",
      "         car[57]     -1.09      0.33     -1.09     -1.61     -0.53   2832.49      1.00\n",
      "         car[58]     -0.97      0.32     -0.98     -1.46     -0.41   2901.86      1.00\n",
      "         car[59]     -0.79      0.34     -0.79     -1.35     -0.23   2615.37      1.00\n",
      "         car[60]     -0.62      0.35     -0.63     -1.17     -0.03   3749.65      1.00\n",
      "         car[61]     -0.31      0.32     -0.30     -0.81      0.23   3617.50      1.00\n",
      "         car[62]      0.32      0.33      0.32     -0.25      0.86   3626.41      1.00\n",
      "         car[63]      0.44      0.33      0.46     -0.06      1.03   3187.05      1.00\n",
      "         car[64]      1.06      0.32      1.06      0.57      1.58   1568.51      1.00\n",
      "         car[65]      0.41      0.32      0.40     -0.16      0.90   3304.67      1.00\n",
      "         car[66]      0.34      0.32      0.35     -0.18      0.85   3480.46      1.00\n",
      "         car[67]     -0.43      0.33     -0.43     -0.98      0.10   3070.29      1.00\n",
      "         car[68]      0.33      0.31      0.34     -0.22      0.81   2153.65      1.00\n",
      "         car[69]      0.48      0.33      0.49     -0.08      1.01   2132.05      1.00\n",
      "         car[70]     -0.54      0.33     -0.53     -1.08      0.00   2962.57      1.00\n",
      "         car[71]     -0.79      0.33     -0.79     -1.25     -0.19   2798.46      1.00\n",
      "         car[72]     -0.61      0.32     -0.61     -1.14     -0.09   3438.09      1.00\n",
      "         car[73]     -0.82      0.34     -0.82     -1.42     -0.32   3157.99      1.00\n",
      "         car[74]     -0.37      0.34     -0.37     -0.91      0.21   2681.35      1.00\n",
      "         car[75]      0.41      0.35      0.42     -0.14      0.96   3058.23      1.00\n",
      "         car[76]      0.30      0.31      0.30     -0.21      0.80   3512.50      1.00\n",
      "         car[77]      1.38      0.34      1.39      0.83      1.93   1099.30      1.00\n",
      "         car[78]     -0.10      0.33     -0.11     -0.63      0.46   2698.47      1.00\n",
      "         car[79]     -0.21      0.33     -0.22     -0.76      0.32   2614.82      1.00\n",
      "         car[80]      0.72      0.34      0.74      0.18      1.29   3746.56      1.00\n",
      "         car[81]      0.79      0.34      0.80      0.23      1.34   2654.71      1.00\n",
      "         car[82]      0.59      0.34      0.59      0.05      1.19   2770.98      1.00\n",
      "         car[83]     -0.28      0.31     -0.29     -0.73      0.29   2398.55      1.00\n",
      "         car[84]     -0.18      0.32     -0.19     -0.73      0.34   3631.31      1.00\n",
      "         car[85]     -0.09      0.35     -0.10     -0.70      0.43   3855.13      1.00\n",
      "         car[86]     -0.67      0.32     -0.67     -1.17     -0.10   2825.84      1.00\n",
      "         car[87]      0.14      0.34      0.15     -0.41      0.69   3625.02      1.00\n",
      "         car[88]      0.01      0.32      0.01     -0.49      0.55   4049.15      1.00\n",
      "         car[89]     -0.27      0.34     -0.27     -0.84      0.28   3147.74      1.00\n",
      "         car[90]     -0.28      0.35     -0.28     -0.83      0.28   2788.16      1.00\n",
      "         car[91]      0.55      0.33      0.56      0.05      1.12   2818.48      1.00\n",
      "         car[92]      0.82      0.33      0.82      0.26      1.34   2976.02      1.00\n",
      "         car[93]      0.11      0.31      0.11     -0.40      0.62   3839.49      1.00\n",
      "         car[94]     -0.36      0.33     -0.37     -0.85      0.21   2773.32      1.00\n",
      "         car[95]      0.58      0.31      0.57      0.10      1.10   3956.25      1.00\n",
      "         car[96]      0.25      0.32      0.26     -0.30      0.75   3213.06      1.00\n",
      "         car[97]      0.30      0.31      0.30     -0.18      0.81   3852.37      1.00\n",
      "         car[98]      0.45      0.32      0.45     -0.07      1.00   2451.52      1.00\n",
      "         car[99]     -0.16      0.32     -0.17     -0.66      0.41   3963.20      1.00\n",
      "        car[100]     -0.51      0.33     -0.52     -1.04      0.03   3020.82      1.00\n",
      "        car[101]     -0.32      0.33     -0.32     -0.85      0.22   3508.27      1.00\n",
      "        car[102]      0.22      0.33      0.23     -0.35      0.73   2845.53      1.00\n",
      "        car[103]      0.30      0.33      0.31     -0.29      0.80   2971.07      1.00\n",
      "        car[104]      0.58      0.33      0.58      0.08      1.17   3372.52      1.00\n",
      "        car[105]      1.08      0.36      1.10      0.47      1.64   1538.31      1.00\n",
      "        car[106]     -0.17      0.32     -0.17     -0.69      0.32   3361.67      1.00\n",
      "        car[107]      0.03      0.31      0.02     -0.51      0.52   3850.31      1.00\n",
      "        car[108]     -0.44      0.33     -0.46     -0.94      0.13   1783.88      1.00\n",
      "        car[109]      0.35      0.31      0.35     -0.17      0.87   3133.95      1.00\n",
      "        car[110]      0.43      0.31      0.43     -0.08      0.92   3562.20      1.00\n",
      "        car[111]      0.15      0.32      0.15     -0.35      0.70   3536.40      1.00\n",
      "        car[112]     -0.07      0.34     -0.08     -0.55      0.53   3616.70      1.00\n",
      "        car[113]      0.17      0.31      0.16     -0.30      0.70   3134.87      1.00\n",
      "        car[114]      0.43      0.33      0.43     -0.13      0.98   3543.03      1.00\n",
      "        car[115]     -0.11      0.32     -0.12     -0.61      0.44   3722.68      1.00\n",
      "        car[116]     -0.40      0.32     -0.39     -0.91      0.14   2546.22      1.00\n",
      "        car[117]     -0.09      0.31     -0.09     -0.60      0.42   2931.45      1.00\n",
      "        car[118]      0.03      0.33      0.03     -0.47      0.60   3406.26      1.00\n",
      "        car[119]      0.56      0.33      0.57      0.05      1.13   2308.97      1.00\n",
      "        car[120]      0.24      0.37      0.25     -0.30      0.89   3274.23      1.00\n",
      "        car[121]     -0.57      0.33     -0.56     -1.06      0.02   2424.22      1.00\n",
      "        car[122]     -0.58      0.32     -0.58     -1.12     -0.08   3068.28      1.00\n",
      "        car[123]      0.10      0.34      0.11     -0.44      0.65   3452.04      1.00\n",
      "        car[124]      0.18      0.33      0.18     -0.37      0.69   4017.61      1.00\n",
      "        car[125]      0.38      0.33      0.38     -0.18      0.89   3734.98      1.00\n",
      "        car[126]      0.27      0.32      0.27     -0.26      0.75   3509.53      1.00\n",
      "        car[127]      0.18      0.33      0.17     -0.36      0.67   3272.26      1.00\n",
      "        car[128]      0.41      0.33      0.42     -0.16      0.93   3531.19      1.00\n",
      "        car[129]     -0.26      0.34     -0.26     -0.81      0.30   3701.05      1.00\n",
      "        car[130]     -0.02      0.34     -0.01     -0.58      0.52   3558.13      1.00\n",
      "        car[131]     -0.45      0.31     -0.44     -0.97      0.07   3362.50      1.00\n",
      "        car[132]      0.54      0.32      0.55      0.06      1.10   2122.20      1.00\n",
      "        car[133]      0.10      0.33      0.10     -0.46      0.59   3659.76      1.00\n",
      "        car[134]     -0.30      0.34     -0.30     -0.88      0.24   3474.09      1.00\n",
      "        car[135]     -0.05      0.38     -0.06     -0.62      0.62   4025.82      1.00\n",
      "        car[136]     -0.23      0.35     -0.23     -0.84      0.34   3604.92      1.00\n",
      "        car[137]     -0.61      0.34     -0.61     -1.17     -0.10   2813.97      1.00\n",
      "        car[138]     -0.71      0.35     -0.73     -1.31     -0.16   3058.85      1.00\n",
      "        car[139]      0.04      0.34      0.04     -0.48      0.61   3050.15      1.00\n",
      "        car[140]      0.61      0.35      0.62      0.02      1.16   4182.00      1.00\n",
      "        car[141]      0.81      0.36      0.82      0.28      1.44   3384.08      1.00\n",
      "        car[142]     -0.00      0.34     -0.00     -0.53      0.57   3205.20      1.00\n",
      "        car[143]      0.01      0.34      0.01     -0.56      0.58   3683.88      1.00\n",
      "        car[144]     -0.71      0.34     -0.72     -1.29     -0.18   3455.23      1.00\n",
      "        car[145]     -0.61      0.34     -0.62     -1.19     -0.07   2876.44      1.00\n",
      "        car[146]     -0.26      0.34     -0.25     -0.88      0.26   3479.34      1.00\n",
      "        car[147]      0.32      0.33      0.32     -0.23      0.87   3238.98      1.00\n",
      "        car[148]      0.49      0.34      0.50     -0.07      1.08   3481.65      1.00\n",
      "        car[149]     -0.56      0.37     -0.56     -1.20      0.01   4261.81      1.00\n",
      "  car_samples[0]     -0.69      0.35     -0.69     -1.27     -0.12   3177.42      1.00\n",
      "  car_samples[1]      0.33      0.35      0.33     -0.24      0.88   3030.66      1.00\n",
      "  car_samples[2]      0.80      0.34      0.81      0.25      1.38   2306.83      1.00\n",
      "  car_samples[3]      0.48      0.34      0.49     -0.09      1.01   3437.17      1.00\n",
      "  car_samples[4]     -0.79      0.35     -0.80     -1.41     -0.28   3175.64      1.00\n",
      "  car_samples[5]     -0.88      0.34     -0.88     -1.41     -0.34   2966.70      1.00\n",
      "  car_samples[6]     -0.89      0.33     -0.90     -1.39     -0.31   3348.38      1.00\n",
      "  car_samples[7]     -0.97      0.35     -0.96     -1.58     -0.44   2404.15      1.00\n",
      "  car_samples[8]     -0.15      0.34     -0.15     -0.72      0.42   4858.64      1.00\n",
      "  car_samples[9]      0.66      0.34      0.67      0.09      1.20   2170.68      1.00\n",
      " car_samples[10]     -0.18      0.34     -0.18     -0.73      0.38   3411.46      1.00\n",
      " car_samples[11]     -0.27      0.34     -0.28     -0.82      0.28   3179.68      1.00\n",
      " car_samples[12]      0.36      0.34      0.36     -0.16      0.96   2227.93      1.00\n",
      " car_samples[13]     -0.57      0.33     -0.57     -1.13     -0.04   3898.92      1.00\n",
      " car_samples[14]     -0.47      0.36     -0.46     -1.11      0.07   3137.67      1.00\n",
      " car_samples[15]     -0.56      0.33     -0.56     -1.08     -0.00   3453.47      1.00\n",
      " car_samples[16]      0.01      0.32      0.00     -0.51      0.53   3257.57      1.00\n",
      " car_samples[17]     -0.12      0.33     -0.13     -0.63      0.43   3690.08      1.00\n",
      " car_samples[18]     -0.26      0.33     -0.26     -0.78      0.29   4098.75      1.00\n",
      " car_samples[19]     -0.37      0.33     -0.37     -0.92      0.18   2851.97      1.00\n",
      " car_samples[20]     -0.33      0.32     -0.33     -0.86      0.13   3910.75      1.00\n",
      " car_samples[21]     -0.37      0.31     -0.38     -0.85      0.16   3913.47      1.00\n",
      " car_samples[22]     -0.37      0.33     -0.37     -0.90      0.17   3388.64      1.00\n",
      " car_samples[23]     -0.23      0.33     -0.23     -0.76      0.31   3293.39      1.00\n",
      " car_samples[24]      0.27      0.33      0.28     -0.29      0.80   2849.87      1.00\n",
      " car_samples[25]     -0.94      0.31     -0.95     -1.44     -0.41   1624.28      1.00\n",
      " car_samples[26]     -0.00      0.34     -0.00     -0.56      0.54   2775.86      1.00\n",
      " car_samples[27]     -0.39      0.32     -0.39     -0.94      0.11   2734.96      1.00\n",
      " car_samples[28]     -0.83      0.34     -0.84     -1.37     -0.27   2920.17      1.00\n",
      " car_samples[29]     -0.97      0.34     -0.97     -1.53     -0.42   3104.04      1.00\n",
      " car_samples[30]     -0.58      0.35     -0.59     -1.11      0.01   4801.64      1.00\n",
      " car_samples[31]     -0.49      0.32     -0.50     -1.03      0.02   3404.03      1.00\n",
      " car_samples[32]      0.12      0.32      0.11     -0.40      0.64   3720.81      1.00\n",
      " car_samples[33]     -0.11      0.33     -0.11     -0.65      0.43   3481.32      1.00\n",
      " car_samples[34]      0.61      0.32      0.62      0.06      1.13   2783.14      1.00\n",
      " car_samples[35]      1.00      0.33      1.00      0.52      1.57   1748.78      1.00\n",
      " car_samples[36]     -0.04      0.31     -0.04     -0.59      0.45   4496.68      1.00\n",
      " car_samples[37]      0.02      0.33      0.03     -0.54      0.52   3082.02      1.00\n",
      " car_samples[38]     -0.31      0.34     -0.32     -0.85      0.25   3425.96      1.00\n",
      " car_samples[39]     -0.52      0.34     -0.52     -1.05      0.02   3767.80      1.00\n",
      " car_samples[40]     -1.32      0.35     -1.33     -1.92     -0.77   2164.10      1.00\n",
      " car_samples[41]     -1.19      0.33     -1.19     -1.70     -0.63   3405.66      1.00\n",
      " car_samples[42]     -1.42      0.35     -1.43     -2.01     -0.87   1859.35      1.00\n",
      " car_samples[43]     -1.57      0.34     -1.58     -2.14     -1.02   1435.53      1.00\n",
      " car_samples[44]     -1.15      0.34     -1.15     -1.70     -0.60   2882.50      1.00\n",
      " car_samples[45]     -0.92      0.35     -0.92     -1.48     -0.36   2120.63      1.00\n",
      " car_samples[46]     -0.18      0.32     -0.18     -0.70      0.32   3524.29      1.00\n",
      " car_samples[47]      0.39      0.34      0.39     -0.14      0.94   2255.66      1.00\n",
      " car_samples[48]     -0.23      0.32     -0.23     -0.77      0.29   3028.49      1.00\n",
      " car_samples[49]      0.14      0.33      0.13     -0.35      0.73   4244.02      1.00\n",
      " car_samples[50]      0.79      0.33      0.80      0.25      1.33   1944.25      1.00\n",
      " car_samples[51]     -0.69      0.35     -0.70     -1.20     -0.09   2071.75      1.00\n",
      " car_samples[52]     -0.76      0.34     -0.76     -1.31     -0.24   2948.41      1.00\n",
      " car_samples[53]     -1.12      0.36     -1.14     -1.72     -0.55   1231.85      1.00\n",
      " car_samples[54]      0.09      0.34      0.10     -0.48      0.65   2951.79      1.00\n",
      " car_samples[55]     -0.67      0.32     -0.67     -1.18     -0.14   3397.28      1.00\n",
      " car_samples[56]     -1.21      0.33     -1.22     -1.72     -0.66   3166.74      1.00\n",
      " car_samples[57]     -1.09      0.33     -1.09     -1.61     -0.53   2832.49      1.00\n",
      " car_samples[58]     -0.97      0.32     -0.98     -1.46     -0.41   2901.86      1.00\n",
      " car_samples[59]     -0.79      0.34     -0.79     -1.35     -0.23   2615.37      1.00\n",
      " car_samples[60]     -0.62      0.35     -0.63     -1.17     -0.03   3749.65      1.00\n",
      " car_samples[61]     -0.31      0.32     -0.30     -0.81      0.23   3617.50      1.00\n",
      " car_samples[62]      0.32      0.33      0.32     -0.25      0.86   3626.41      1.00\n",
      " car_samples[63]      0.44      0.33      0.46     -0.06      1.03   3187.05      1.00\n",
      " car_samples[64]      1.06      0.32      1.06      0.57      1.58   1568.51      1.00\n",
      " car_samples[65]      0.41      0.32      0.40     -0.16      0.90   3304.67      1.00\n",
      " car_samples[66]      0.34      0.32      0.35     -0.18      0.85   3480.46      1.00\n",
      " car_samples[67]     -0.43      0.33     -0.43     -0.98      0.10   3070.29      1.00\n",
      " car_samples[68]      0.33      0.31      0.34     -0.22      0.81   2153.65      1.00\n",
      " car_samples[69]      0.48      0.33      0.49     -0.08      1.01   2132.05      1.00\n",
      " car_samples[70]     -0.54      0.33     -0.53     -1.08      0.00   2962.57      1.00\n",
      " car_samples[71]     -0.79      0.33     -0.79     -1.25     -0.19   2798.46      1.00\n",
      " car_samples[72]     -0.61      0.32     -0.61     -1.14     -0.09   3438.09      1.00\n",
      " car_samples[73]     -0.82      0.34     -0.82     -1.42     -0.32   3157.99      1.00\n",
      " car_samples[74]     -0.37      0.34     -0.37     -0.91      0.21   2681.35      1.00\n",
      " car_samples[75]      0.41      0.35      0.42     -0.14      0.96   3058.23      1.00\n",
      " car_samples[76]      0.30      0.31      0.30     -0.21      0.80   3512.50      1.00\n",
      " car_samples[77]      1.38      0.34      1.39      0.83      1.93   1099.30      1.00\n",
      " car_samples[78]     -0.10      0.33     -0.11     -0.63      0.46   2698.47      1.00\n",
      " car_samples[79]     -0.21      0.33     -0.22     -0.76      0.32   2614.82      1.00\n",
      " car_samples[80]      0.72      0.34      0.74      0.18      1.29   3746.56      1.00\n",
      " car_samples[81]      0.79      0.34      0.80      0.23      1.34   2654.71      1.00\n",
      " car_samples[82]      0.59      0.34      0.59      0.05      1.19   2770.98      1.00\n",
      " car_samples[83]     -0.28      0.31     -0.29     -0.73      0.29   2398.55      1.00\n",
      " car_samples[84]     -0.18      0.32     -0.19     -0.73      0.34   3631.31      1.00\n",
      " car_samples[85]     -0.09      0.35     -0.10     -0.70      0.43   3855.13      1.00\n",
      " car_samples[86]     -0.67      0.32     -0.67     -1.17     -0.10   2825.84      1.00\n",
      " car_samples[87]      0.14      0.34      0.15     -0.41      0.69   3625.02      1.00\n",
      " car_samples[88]      0.01      0.32      0.01     -0.49      0.55   4049.15      1.00\n",
      " car_samples[89]     -0.27      0.34     -0.27     -0.84      0.28   3147.74      1.00\n",
      " car_samples[90]     -0.28      0.35     -0.28     -0.83      0.28   2788.16      1.00\n",
      " car_samples[91]      0.55      0.33      0.56      0.05      1.12   2818.48      1.00\n",
      " car_samples[92]      0.82      0.33      0.82      0.26      1.34   2976.02      1.00\n",
      " car_samples[93]      0.11      0.31      0.11     -0.40      0.62   3839.49      1.00\n",
      " car_samples[94]     -0.36      0.33     -0.37     -0.85      0.21   2773.32      1.00\n",
      " car_samples[95]      0.58      0.31      0.57      0.10      1.10   3956.25      1.00\n",
      " car_samples[96]      0.25      0.32      0.26     -0.30      0.75   3213.06      1.00\n",
      " car_samples[97]      0.30      0.31      0.30     -0.18      0.81   3852.37      1.00\n",
      " car_samples[98]      0.45      0.32      0.45     -0.07      1.00   2451.52      1.00\n",
      " car_samples[99]     -0.16      0.32     -0.17     -0.66      0.41   3963.20      1.00\n",
      "car_samples[100]     -0.51      0.33     -0.52     -1.04      0.03   3020.82      1.00\n",
      "car_samples[101]     -0.32      0.33     -0.32     -0.85      0.22   3508.27      1.00\n",
      "car_samples[102]      0.22      0.33      0.23     -0.35      0.73   2845.53      1.00\n",
      "car_samples[103]      0.30      0.33      0.31     -0.29      0.80   2971.07      1.00\n",
      "car_samples[104]      0.58      0.33      0.58      0.08      1.17   3372.52      1.00\n",
      "car_samples[105]      1.08      0.36      1.10      0.47      1.64   1538.31      1.00\n",
      "car_samples[106]     -0.17      0.32     -0.17     -0.69      0.32   3361.67      1.00\n",
      "car_samples[107]      0.03      0.31      0.02     -0.51      0.52   3850.31      1.00\n",
      "car_samples[108]     -0.44      0.33     -0.46     -0.94      0.13   1783.88      1.00\n",
      "car_samples[109]      0.35      0.31      0.35     -0.17      0.87   3133.95      1.00\n",
      "car_samples[110]      0.43      0.31      0.43     -0.08      0.92   3562.20      1.00\n",
      "car_samples[111]      0.15      0.32      0.15     -0.35      0.70   3536.40      1.00\n",
      "car_samples[112]     -0.07      0.34     -0.08     -0.55      0.53   3616.70      1.00\n",
      "car_samples[113]      0.17      0.31      0.16     -0.30      0.70   3134.87      1.00\n",
      "car_samples[114]      0.43      0.33      0.43     -0.13      0.98   3543.03      1.00\n",
      "car_samples[115]     -0.11      0.32     -0.12     -0.61      0.44   3722.68      1.00\n",
      "car_samples[116]     -0.40      0.32     -0.39     -0.91      0.14   2546.22      1.00\n",
      "car_samples[117]     -0.09      0.31     -0.09     -0.60      0.42   2931.45      1.00\n",
      "car_samples[118]      0.03      0.33      0.03     -0.47      0.60   3406.26      1.00\n",
      "car_samples[119]      0.56      0.33      0.57      0.05      1.13   2308.97      1.00\n",
      "car_samples[120]      0.24      0.37      0.25     -0.30      0.89   3274.23      1.00\n",
      "car_samples[121]     -0.57      0.33     -0.56     -1.06      0.02   2424.22      1.00\n",
      "car_samples[122]     -0.58      0.32     -0.58     -1.12     -0.08   3068.28      1.00\n",
      "car_samples[123]      0.10      0.34      0.11     -0.44      0.65   3452.04      1.00\n",
      "car_samples[124]      0.18      0.33      0.18     -0.37      0.69   4017.61      1.00\n",
      "car_samples[125]      0.38      0.33      0.38     -0.18      0.89   3734.98      1.00\n",
      "car_samples[126]      0.27      0.32      0.27     -0.26      0.75   3509.53      1.00\n",
      "car_samples[127]      0.18      0.33      0.17     -0.36      0.67   3272.26      1.00\n",
      "car_samples[128]      0.41      0.33      0.42     -0.16      0.93   3531.19      1.00\n",
      "car_samples[129]     -0.26      0.34     -0.26     -0.81      0.30   3701.05      1.00\n",
      "car_samples[130]     -0.02      0.34     -0.01     -0.58      0.52   3558.13      1.00\n",
      "car_samples[131]     -0.45      0.31     -0.44     -0.97      0.07   3362.50      1.00\n",
      "car_samples[132]      0.54      0.32      0.55      0.06      1.10   2122.20      1.00\n",
      "car_samples[133]      0.10      0.33      0.10     -0.46      0.59   3659.76      1.00\n",
      "car_samples[134]     -0.30      0.34     -0.30     -0.88      0.24   3474.09      1.00\n",
      "car_samples[135]     -0.05      0.38     -0.06     -0.62      0.62   4025.82      1.00\n",
      "car_samples[136]     -0.23      0.35     -0.23     -0.84      0.34   3604.92      1.00\n",
      "car_samples[137]     -0.61      0.34     -0.61     -1.17     -0.10   2813.97      1.00\n",
      "car_samples[138]     -0.71      0.35     -0.73     -1.31     -0.16   3058.85      1.00\n",
      "car_samples[139]      0.04      0.34      0.04     -0.48      0.61   3050.15      1.00\n",
      "car_samples[140]      0.61      0.35      0.62      0.02      1.16   4182.00      1.00\n",
      "car_samples[141]      0.81      0.36      0.82      0.28      1.44   3384.08      1.00\n",
      "car_samples[142]     -0.00      0.34     -0.00     -0.53      0.57   3205.20      1.00\n",
      "car_samples[143]      0.01      0.34      0.01     -0.56      0.58   3683.88      1.00\n",
      "car_samples[144]     -0.71      0.34     -0.72     -1.29     -0.18   3455.23      1.00\n",
      "car_samples[145]     -0.61      0.34     -0.62     -1.19     -0.07   2876.44      1.00\n",
      "car_samples[146]     -0.26      0.34     -0.25     -0.88      0.26   3479.34      1.00\n",
      "car_samples[147]      0.32      0.33      0.32     -0.23      0.87   3238.98      1.00\n",
      "car_samples[148]      0.49      0.34      0.50     -0.07      1.08   3481.65      1.00\n",
      "car_samples[149]     -0.56      0.37     -0.56     -1.20      0.01   4261.81      1.00\n",
      "           noise      0.41      0.06      0.41      0.31      0.51    181.18      1.01\n",
      "\n",
      "Number of divergences: 0\n"
     ]
    }
   ],
   "source": [
    "#args[\"y\"] = y_true\n",
    "\n",
    "# inference - smooth data and infer alpha\n",
    "start = time.time()\n",
    "init_strategy = init_to_median(num_samples=10)\n",
    "kernel = NUTS(CAR_model, init_strategy=init_strategy)\n",
    "mcmc = MCMC(kernel, num_warmup=1000, num_samples=2000)\n",
    "rng_key, rng_key_infer = random.split(rng_key)\n",
    "mcmc.run(rng_key_infer, args, y=y_data)\n",
    "mcmc_samples = mcmc.get_samples()\n",
    "mcmc.print_summary(exclude_deterministic=False)\n",
    "t_elapsed = time.time() - start"
   ]
  },
  {
   "cell_type": "code",
   "execution_count": 39,
   "id": "2aedcab0",
   "metadata": {},
   "outputs": [
    {
     "name": "stdout",
     "output_type": "stream",
     "text": [
      "\n",
      "MCMC elapsed time: 73 s\n",
      "Average ESS for all CAR effects : 3128\n"
     ]
    }
   ],
   "source": [
    "print(\"\\nMCMC elapsed time:\", round(t_elapsed), \"s\")\n",
    "\n",
    "ss = numpyro.diagnostics.summary(mcmc.get_samples(group_by_chain=True))\n",
    "r = np.mean(ss['car']['n_eff'])\n",
    "print(\"Average ESS for all CAR effects : \" + str(round(r)))\n"
   ]
  },
  {
   "cell_type": "code",
   "execution_count": 40,
   "id": "a8c0b0ab",
   "metadata": {},
   "outputs": [
    {
     "data": {
      "text/plain": [
       "dict_keys(['alpha', 'car', 'car_samples', 'noise'])"
      ]
     },
     "execution_count": 40,
     "metadata": {},
     "output_type": "execute_result"
    }
   ],
   "source": [
    "mcmc_samples.keys()"
   ]
  },
  {
   "cell_type": "code",
   "execution_count": 41,
   "id": "2b469fab",
   "metadata": {},
   "outputs": [],
   "source": [
    "# posterior predictive\n",
    "rng_key, rng_key_predict = random.split(rng_key)\n",
    "posterior_predictive = Predictive(CAR_model, mcmc_samples)\n",
    "posterior_predictions = posterior_predictive(rng_key_predict, args, y=None)"
   ]
  },
  {
   "cell_type": "code",
   "execution_count": 42,
   "id": "f03e0dd8",
   "metadata": {},
   "outputs": [
    {
     "data": {
      "text/plain": [
       "dict_keys(['car_samples', 'y_pred'])"
      ]
     },
     "execution_count": 42,
     "metadata": {},
     "output_type": "execute_result"
    }
   ],
   "source": [
    "posterior_predictions.keys()"
   ]
  },
  {
   "cell_type": "code",
   "execution_count": 43,
   "id": "1235a20f",
   "metadata": {},
   "outputs": [
    {
     "data": {
      "image/png": "[encoded data removed]",
      "text/plain": [
       "<Figure size 1296x288 with 6 Axes>"
      ]
     },
     "metadata": {
      "needs_background": "light"
     },
     "output_type": "display_data"
    }
   ],
   "source": [
    "post_obs = posterior_predictions['car_samples']\n",
    "mean_post_pred_car = np.mean(post_obs, axis=0)\n",
    "hpdi_post_pred_car = hpdi(post_obs, 0.9)\n",
    "\n",
    "plot_truth_car_vae(y_data, \n",
    "                   y_truth, \n",
    "                   mean_post_pred_car, \n",
    "                   ttl1=\"data (truth + noise)\", \n",
    "                   ttl2=\"truth\", \n",
    "                   ttl3=\"CAR estimate\")"
   ]
  },
  {
   "cell_type": "code",
   "execution_count": 44,
   "id": "b66e3366",
   "metadata": {},
   "outputs": [
    {
     "name": "stdout",
     "output_type": "stream",
     "text": [
      "0.118769534\n"
     ]
    },
    {
     "data": {
      "image/png": "[encoded data removed]",
      "text/plain": [
       "<Figure size 288x288 with 1 Axes>"
      ]
     },
     "metadata": {
      "needs_background": "light"
     },
     "output_type": "display_data"
    }
   ],
   "source": [
    "mx = np.max([y_truth, mean_post_pred_car])\n",
    "plt.rcParams[\"figure.figsize\"] = (4,4)\n",
    "plt.scatter(y_truth, mean_post_pred_car)\n",
    "plt.ylim(0, mx+0.1)\n",
    "plt.xlim(0, mx+0.1)\n",
    "plt.axline((1, 1), slope=1, ls=\"--\", c=\".3\")\n",
    "plt.xlabel(\"y-true\")\n",
    "plt.ylabel(\"CAR post. predictive\")\n",
    "\n",
    "MSE_car = np.mean((y_truth -  mean_post_pred_car)**2)\n",
    "print(MSE_car)"
   ]
  },
  {
   "cell_type": "code",
   "execution_count": 45,
   "id": "0dd656f9",
   "metadata": {},
   "outputs": [
    {
     "data": {
      "text/plain": [
       "Text(0, 0.5, 'CAR post. predictive')"
      ]
     },
     "execution_count": 45,
     "metadata": {},
     "output_type": "execute_result"
    },
    {
     "data": {
      "image/png": "[encoded data removed]",
      "text/plain": [
       "<Figure size 288x288 with 1 Axes>"
      ]
     },
     "metadata": {
      "needs_background": "light"
     },
     "output_type": "display_data"
    }
   ],
   "source": [
    "mx = np.max([ mean_post_pred_vae, mean_post_pred_car])\n",
    "plt.rcParams[\"figure.figsize\"] = (4,4)\n",
    "plt.scatter(mean_post_pred_vae, mean_post_pred_car)\n",
    "plt.ylim(0, mx+0.1)\n",
    "plt.xlim(0, mx+0.1)\n",
    "plt.axline((1, 1), slope=1, ls=\"--\", c=\".3\")\n",
    "plt.xlabel(\"VAE post. predictive\")\n",
    "plt.ylabel(\"CAR post. predictive\")"
   ]
  },
  {
   "cell_type": "code",
   "execution_count": 46,
   "id": "2771d7e9",
   "metadata": {},
   "outputs": [
    {
     "data": {
      "image/png": "[encoded data removed]",
      "text/plain": [
       "<Figure size 864x288 with 4 Axes>"
      ]
     },
     "metadata": {
      "needs_background": "light"
     },
     "output_type": "display_data"
    }
   ],
   "source": [
    "plot_truth_estimate(mean_post_pred_car, mean_post_pred_vae, ttl1=\"CAR\", ttl2=\"VAE\")"
   ]
  },
  {
   "cell_type": "code",
   "execution_count": 47,
   "id": "3134a71d",
   "metadata": {},
   "outputs": [
    {
     "data": {
      "text/plain": [
       "DeviceArray(0.11876953, dtype=float32)"
      ]
     },
     "execution_count": 47,
     "metadata": {},
     "output_type": "execute_result"
    }
   ],
   "source": [
    "MSE_car"
   ]
  },
  {
   "cell_type": "code",
   "execution_count": 48,
   "id": "4d09815a",
   "metadata": {},
   "outputs": [
    {
     "data": {
      "text/plain": [
       "DeviceArray(0.13550423, dtype=float32)"
      ]
     },
     "execution_count": 48,
     "metadata": {},
     "output_type": "execute_result"
    }
   ],
   "source": [
    "MSE_vae"
   ]
  },
  {
   "cell_type": "code",
   "execution_count": 49,
   "id": "8b19ce00",
   "metadata": {},
   "outputs": [
    {
     "data": {
      "image/png": "[encoded data removed]",
      "text/plain": [
       "<Figure size 1296x288 with 6 Axes>"
      ]
     },
     "metadata": {
      "needs_background": "light"
     },
     "output_type": "display_data"
    },
    {
     "data": {
      "image/png": "[encoded data removed]",
      "text/plain": [
       "<Figure size 1296x288 with 6 Axes>"
      ]
     },
     "metadata": {
      "needs_background": "light"
     },
     "output_type": "display_data"
    }
   ],
   "source": [
    "plot_truth_car_vae(y_data, \n",
    "                   y_truth, \n",
    "                   mean_post_pred_vae, \n",
    "                   ttl1=\"data (truth + noise)\", \n",
    "                   ttl2=\"truth\", \n",
    "                   ttl3=\"VAE estimate\")\n",
    "\n",
    "plot_truth_car_vae(y_data, \n",
    "                   y_truth, \n",
    "                   mean_post_pred_car, \n",
    "                   ttl1=\"data (truth + noise)\", \n",
    "                   ttl2=\"truth\", \n",
    "                   ttl3=\"CAR estimate\")"
   ]
  },
  {
   "cell_type": "code",
   "execution_count": 50,
   "id": "be87ee26",
   "metadata": {},
   "outputs": [],
   "source": [
    "def plot_data_truth_car_vae(y_data, y_true, mean_post_pred_car, mean_post_pred_vae, \n",
    "                       ttl1=\"Data\", ttl2=\"Ground truth\", ttl3=\"CAR estimate\", ttl4=\"VAE-CAR estimate\"):\n",
    "    fig, axs = plt.subplots(2, 2, figsize=(12, 8))\n",
    "    _min = np.amin([y_data, y_true, mean_post_pred_car, mean_post_pred_vae])\n",
    "    _max = np.amax([y_data, y_true, mean_post_pred_car, mean_post_pred_vae])\n",
    "\n",
    "    im = axs[0,0].imshow(y_data.reshape(ny, nx), \n",
    "                       cmap='inferno', \n",
    "                       interpolation='none', \n",
    "                       origin='lower',\n",
    "                       vmin=_min, vmax=_max)\n",
    "    fig.colorbar(im, ax=axs[0,0])\n",
    "    axs[0,0].set_title(ttl1)  \n",
    "\n",
    "    im = axs[0,1].imshow(y_true.reshape(ny, nx), \n",
    "                       cmap='inferno', \n",
    "                       interpolation='none', \n",
    "                       origin='lower',\n",
    "                       vmin=_min, vmax=_max)\n",
    "\n",
    "    fig.colorbar(im, ax=axs[0,1])\n",
    "    axs[0,1].set_title(ttl2)\n",
    "    \n",
    "    im = axs[1,0].imshow(mean_post_pred_car.reshape(ny, nx), \n",
    "                       cmap='inferno', \n",
    "                       interpolation='none', \n",
    "                       origin='lower',\n",
    "                       vmin=_min, vmax=_max)\n",
    "\n",
    "    fig.colorbar(im, ax=axs[1,0])\n",
    "    axs[1,0].set_title(ttl3)\n",
    "    \n",
    "    im = axs[1,1].imshow(mean_post_pred_vae.reshape(ny, nx), \n",
    "                       cmap='inferno', \n",
    "                       interpolation='none', \n",
    "                       origin='lower',\n",
    "                       vmin=_min, vmax=_max)\n",
    "\n",
    "    fig.colorbar(im, ax=axs[1,1])\n",
    "    axs[1,1].set_title(ttl4)\n",
    "    \n",
    "    return fig"
   ]
  },
  {
   "cell_type": "code",
   "execution_count": 51,
   "id": "3b304b8b",
   "metadata": {},
   "outputs": [
    {
     "data": {
      "image/png": "[encoded data removed]",
      "text/plain": [
       "<Figure size 864x576 with 8 Axes>"
      ]
     },
     "metadata": {
      "needs_background": "light"
     },
     "output_type": "display_data"
    }
   ],
   "source": [
    "fig = plot_data_truth_car_vae(y_data, \n",
    "                        y_truth, \n",
    "                        mean_post_pred_car,\n",
    "                        mean_post_pred_vae)\n",
    "\n",
    "plt.rcParams['figure.dpi'] = 300\n",
    "plt.rcParams['savefig.dpi'] = 300\n",
    "fig.savefig(\"../res/synth_CAR.pdf\")"
   ]
  },
  {
   "cell_type": "code",
   "execution_count": null,
   "id": "353400b9",
   "metadata": {},
   "outputs": [],
   "source": []
  }
 ],
 "metadata": {
  "kernelspec": {
   "display_name": "Python 3 (ipykernel)",
   "language": "python",
   "name": "python3"
  },
  "language_info": {
   "codemirror_mode": {
    "name": "ipython",
    "version": 3
   },
   "file_extension": ".py",
   "mimetype": "text/x-python",
   "name": "python",
   "nbconvert_exporter": "python",
   "pygments_lexer": "ipython3",
   "version": "3.9.6"
  }
 },
 "nbformat": 4,
 "nbformat_minor": 5
}
